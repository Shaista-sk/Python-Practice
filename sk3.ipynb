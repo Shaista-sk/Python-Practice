{
  "nbformat": 4,
  "nbformat_minor": 0,
  "metadata": {
    "colab": {
      "provenance": [],
      "authorship_tag": "ABX9TyN9Y6Lcvnlz4mOAqOTazirA",
      "include_colab_link": true
    },
    "kernelspec": {
      "name": "python3",
      "display_name": "Python 3"
    },
    "language_info": {
      "name": "python"
    }
  },
  "cells": [
    {
      "cell_type": "markdown",
      "metadata": {
        "id": "view-in-github",
        "colab_type": "text"
      },
      "source": [
        "<a href=\"https://colab.research.google.com/github/Shaista-sk/Python-Practice/blob/main/sk3.ipynb\" target=\"_parent\"><img src=\"https://colab.research.google.com/assets/colab-badge.svg\" alt=\"Open In Colab\"/></a>"
      ]
    },
    {
      "cell_type": "markdown",
      "source": [
        "# 1. Write a Python program that asks the user for their name and age, then prints a message\n",
        "like: \"Hello Alice, you are 25 years old.\""
      ],
      "metadata": {
        "id": "wJ1q-1M6TUKn"
      }
    },
    {
      "cell_type": "code",
      "source": [
        "name = input(\"Enter your name: \")\n",
        "age = int(input(\"Enter your age: \"))\n",
        "\n",
        "print(f\"Hello {name}, you are {age} years old.\")\n"
      ],
      "metadata": {
        "colab": {
          "base_uri": "https://localhost:8080/"
        },
        "id": "Wb-159VtUb-h",
        "outputId": "debcb362-6d62-4e98-b151-c49a7e814a2a"
      },
      "execution_count": null,
      "outputs": [
        {
          "output_type": "stream",
          "name": "stdout",
          "text": [
            "Enter your name: sk\n",
            "Enter your age: 20\n",
            "Hello sk, you are 20 years old.\n"
          ]
        }
      ]
    },
    {
      "cell_type": "markdown",
      "source": [
        "# What is the data type returned by the input() function in Python?"
      ],
      "metadata": {
        "id": "2h73o3lIVXk2"
      }
    },
    {
      "cell_type": "markdown",
      "source": [
        "The input() function always returns data as a string (str), no matter what the user types."
      ],
      "metadata": {
        "id": "IX6NjqfWVhf-"
      }
    },
    {
      "cell_type": "markdown",
      "source": [
        "# 3. How would you get a number from the user using input() and perform addition with\n",
        "# another number?"
      ],
      "metadata": {
        "id": "WsBYsJ9NVpQS"
      }
    },
    {
      "cell_type": "markdown",
      "source": [
        "Without int(), the program would try to add a string and number, which gives an error."
      ],
      "metadata": {
        "id": "tceyBNakVwz2"
      }
    },
    {
      "cell_type": "code",
      "source": [
        "\n",
        "user_number = input(\"Enter a number: \")\n",
        "\n",
        "\n",
        "user_number = int(user_number)\n",
        "\n",
        "\n",
        "result = user_number + 10\n",
        "\n",
        "\n",
        "print(\"The result is:\", result)\n",
        "\n",
        "\n"
      ],
      "metadata": {
        "colab": {
          "base_uri": "https://localhost:8080/"
        },
        "id": "zXCGvpG0WBTP",
        "outputId": "c271fdb6-d292-48c9-cef9-21b942bb78c1"
      },
      "execution_count": null,
      "outputs": [
        {
          "output_type": "stream",
          "name": "stdout",
          "text": [
            "Enter a number: 4\n",
            "The result is: 14\n"
          ]
        }
      ]
    },
    {
      "cell_type": "markdown",
      "source": [
        "# 4. What is the output of the following code?\n",
        "# print(10 + 3 * 2)"
      ],
      "metadata": {
        "id": "nQLIf4jbWeGH"
      }
    },
    {
      "cell_type": "markdown",
      "source": [
        "In Python, multiplication (*) has higher precedence than addition (+).\n",
        "\n",
        "So, first 3 * 2 is calculated.\n",
        "\n",
        "output: 16"
      ],
      "metadata": {
        "id": "S3XNPN19WlKF"
      }
    },
    {
      "cell_type": "markdown",
      "source": [
        "# 5. Write a program to take two numbers from the user and display their sum, difference,\n",
        "# product, quotient, and remainder."
      ],
      "metadata": {
        "id": "yJU7fZUxWzvk"
      }
    },
    {
      "cell_type": "code",
      "source": [
        "\n",
        "\n",
        "# Taking two numbers from the user\n",
        "num1 = int(input(\"Enter the first number: \"))\n",
        "num2 = int(input(\"Enter the second number: \"))\n",
        "\n",
        "# Performing operations\n",
        "sum_result = num1 + num2\n",
        "difference = num1 - num2\n",
        "product = num1 * num2\n",
        "quotient = num1 / num2\n",
        "remainder = num1 % num2\n",
        "\n",
        "# Displaying results\n",
        "print(\"Sum:\", sum_result)\n",
        "print(\"Difference:\", difference)\n",
        "print(\"Product:\", product)\n",
        "print(\"Quotient:\", quotient)\n",
        "print(\"Remainder:\", remainder)\n",
        "\n"
      ],
      "metadata": {
        "colab": {
          "base_uri": "https://localhost:8080/"
        },
        "id": "HAMOQ1rPW7TU",
        "outputId": "b0bb170b-a7e8-4899-a4f2-79ecd7ddde2a"
      },
      "execution_count": null,
      "outputs": [
        {
          "output_type": "stream",
          "name": "stdout",
          "text": [
            "Enter the first number: 3\n",
            "Enter the second number: 8\n",
            "Sum: 11\n",
            "Difference: -5\n",
            "Product: 24\n",
            "Quotient: 0.375\n",
            "Remainder: 3\n"
          ]
        }
      ]
    },
    {
      "cell_type": "markdown",
      "source": [
        "# 6. What will the following expression return?\n",
        "# 15 > 10 and 10 < 5"
      ],
      "metadata": {
        "id": "8sssGLBGXb8k"
      }
    },
    {
      "cell_type": "markdown",
      "source": [
        "True and False  \n",
        "\n",
        "output is False"
      ],
      "metadata": {
        "id": "MVVTp99tXj92"
      }
    },
    {
      "cell_type": "markdown",
      "source": [
        "# 7. Write a Python program that compares two user-input numbers and prints whether they\n",
        "# are equal, or which one is greater."
      ],
      "metadata": {
        "id": "iRC2IyuVXyOL"
      }
    },
    {
      "cell_type": "code",
      "source": [
        "\n",
        "\n",
        "# Taking two numbers from the user\n",
        "num1 = float(input(\"Enter the first number: \"))\n",
        "num2 = float(input(\"Enter the second number: \"))\n",
        "\n",
        "# Comparing the numbers\n",
        "if num1 == num2:\n",
        "    print(\"Both numbers are equal.\")\n",
        "elif num1 > num2:\n",
        "    print(\"The first number is greater than the second number.\")\n",
        "else:\n",
        "    print(\"The second number is greater than the first number.\")\n"
      ],
      "metadata": {
        "colab": {
          "base_uri": "https://localhost:8080/"
        },
        "id": "q7g7_vZ7X_uF",
        "outputId": "c5ed9cae-5b66-4cc8-a2c2-b63f3db58062"
      },
      "execution_count": null,
      "outputs": [
        {
          "output_type": "stream",
          "name": "stdout",
          "text": [
            "Enter the first number: 8\n",
            "Enter the second number: 7\n",
            "The first number is greater than the second number.\n"
          ]
        }
      ]
    },
    {
      "cell_type": "markdown",
      "source": [
        "# 8. Given the code below, what will be the value of a?   \n",
        "\n",
        "a = 5   \n",
        "a += 3   \n",
        "a *= 2   "
      ],
      "metadata": {
        "id": "TkES5ax1Yf1I"
      }
    },
    {
      "cell_type": "markdown",
      "source": [
        "**a is now 5**\n",
        "\n",
        "a = 5 + 3 = 8\n",
        "\n",
        "**a is now 8**\n",
        "\n",
        "a *= 2 is the same as a = a * 2\n",
        "\n",
        "a = 8 * 2 = 16\n",
        "\n",
        "**a is now 16**\n"
      ],
      "metadata": {
        "id": "zQTl9gDTYy0E"
      }
    },
    {
      "cell_type": "markdown",
      "source": [
        "# 9. Write a program that takes a number and increases it by 10 using an assignment operator.\n"
      ],
      "metadata": {
        "id": "XQiTZMISZFZT"
      }
    },
    {
      "cell_type": "code",
      "source": [
        "\n",
        "\n",
        "# Taking a number from the user\n",
        "num = float(input(\"Enter a number: \"))\n",
        "\n",
        "# Increasing the number by 10 using += operator\n",
        "num += 10\n",
        "\n",
        "print(\"The new number is:\", num)\n"
      ],
      "metadata": {
        "colab": {
          "base_uri": "https://localhost:8080/"
        },
        "id": "ghshUxn0ZKgS",
        "outputId": "4536fae7-e4ba-46ac-dfba-df911c752df2"
      },
      "execution_count": null,
      "outputs": [
        {
          "output_type": "stream",
          "name": "stdout",
          "text": [
            "Enter a number: 8\n",
            "The new number is: 18.0\n"
          ]
        }
      ]
    },
    {
      "cell_type": "markdown",
      "source": [
        "# 10. What is the output of this code?   \n",
        "\n",
        "x = 5   \n",
        "print(x > 3 and x < 10)"
      ],
      "metadata": {
        "id": "uzInveprZhzw"
      }
    },
    {
      "cell_type": "markdown",
      "source": [
        "True and True\n",
        "so the output is True"
      ],
      "metadata": {
        "id": "PV9y4lLoZr8D"
      }
    },
    {
      "cell_type": "markdown",
      "source": [
        "# 11. How does the or operator differ from the and operator in terms of output?"
      ],
      "metadata": {
        "id": "sDYlE6klZ2k4"
      }
    },
    {
      "cell_type": "markdown",
      "source": [
        "and >> needs both True\n",
        "\n",
        "or >> needs at least one True"
      ],
      "metadata": {
        "id": "HoHBXfxzZ90B"
      }
    },
    {
      "cell_type": "markdown",
      "source": [
        "# 12. What is the difference between == and is in Python?\n"
      ],
      "metadata": {
        "id": "1k6uO7UOaQB7"
      }
    },
    {
      "cell_type": "markdown",
      "source": [
        "# ==\n",
        "Checks if the values of two objects are equal.\n",
        "\n",
        "# is (Identity Operator)\n",
        "checks if two variables point to the exact same object in memory.\n",
        "\n"
      ],
      "metadata": {
        "id": "-tTQT2ieaZpn"
      }
    },
    {
      "cell_type": "markdown",
      "source": [
        "# 13. What will the following code output and why?   \n",
        "\n",
        "x = [1, 2, 3]   \n",
        "y = [1, 2, 3]   \n",
        "print(x == y)   \n",
        "print(x is y)"
      ],
      "metadata": {
        "id": "TW8_dGzobMHy"
      }
    },
    {
      "cell_type": "markdown",
      "source": [
        "( True )  #as the values are same  \n",
        "\n",
        "( False ) #two separate list stored at differnt memory location"
      ],
      "metadata": {
        "id": "hFcUh9UEbTKE"
      }
    },
    {
      "cell_type": "markdown",
      "source": [
        "# 14. Write a Python program that checks if the letter 'a' is present in the word 'banana'."
      ],
      "metadata": {
        "id": "dluQmmb2b1rw"
      }
    },
    {
      "cell_type": "code",
      "source": [
        "\n",
        "word = \"banana\"\n",
        "\n",
        "# Using 'in' keyword to check presence\n",
        "if 'a' in word:\n",
        "    print(\"The letter 'a' is present in the word.\")\n",
        "else:\n",
        "    print(\"The letter 'a' is not present in the word.\")\n"
      ],
      "metadata": {
        "colab": {
          "base_uri": "https://localhost:8080/"
        },
        "id": "V7_YJKkmcJ4g",
        "outputId": "7817d142-d42b-44f0-f7d3-61490d43172c"
      },
      "execution_count": null,
      "outputs": [
        {
          "output_type": "stream",
          "name": "stdout",
          "text": [
            "The letter 'a' is present in the word.\n"
          ]
        }
      ]
    },
    {
      "cell_type": "markdown",
      "source": [
        "# 15. What is the result of the bitwise AND operation between 5 and 3?\n",
        "# (Hint: Convert to binary first)"
      ],
      "metadata": {
        "id": "2hVjg8ekcmAX"
      }
    },
    {
      "cell_type": "markdown",
      "source": [
        "1 0 1    (5)  \n",
        "\n",
        "### 0 1 1   (3)\n",
        "---------\n",
        "  0 0 1\n",
        "      \n",
        " Answer: 1     "
      ],
      "metadata": {
        "id": "6RqOx8Kbc_nK"
      }
    }
  ]
}