{
  "nbformat": 4,
  "nbformat_minor": 0,
  "metadata": {
    "colab": {
      "provenance": [],
      "authorship_tag": "ABX9TyMIHl7AygSGd4E95sRsvhRS",
      "include_colab_link": true
    },
    "kernelspec": {
      "name": "python3",
      "display_name": "Python 3"
    },
    "language_info": {
      "name": "python"
    }
  },
  "cells": [
    {
      "cell_type": "markdown",
      "metadata": {
        "id": "view-in-github",
        "colab_type": "text"
      },
      "source": [
        "<a href=\"https://colab.research.google.com/github/Shaista-sk/Python-Practice/blob/main/sk6.ipynb\" target=\"_parent\"><img src=\"https://colab.research.google.com/assets/colab-badge.svg\" alt=\"Open In Colab\"/></a>"
      ]
    },
    {
      "cell_type": "markdown",
      "source": [
        "# Data Structures Part 1  \n",
        "\n",
        "Subtopics: Lists & Tuples\n",
        "1.\t1. Write a Python program to create a list of 5 integers and print the list."
      ],
      "metadata": {
        "id": "DP441B52G0ID"
      }
    },
    {
      "cell_type": "code",
      "source": [
        "number=[1,2,3,4,5]\n",
        "print(\"The list of 5 integers: \",number)"
      ],
      "metadata": {
        "colab": {
          "base_uri": "https://localhost:8080/"
        },
        "id": "I4lh7lLTHWd1",
        "outputId": "8d663876-d817-479e-9193-8666acb49ff0"
      },
      "execution_count": null,
      "outputs": [
        {
          "output_type": "stream",
          "name": "stdout",
          "text": [
            "The list of 5 integers:  [1, 2, 3, 4, 5]\n"
          ]
        }
      ]
    },
    {
      "cell_type": "markdown",
      "source": [
        "Write a Python function that takes a list of numbers and returns the maximum value."
      ],
      "metadata": {
        "id": "Hva0rylDHuR9"
      }
    },
    {
      "cell_type": "code",
      "source": [
        "def find_max(numbers):\n",
        "    return max(numbers)\n",
        "nums = [12, 45, 7, 89, 23]\n",
        "print(\"Maximum value is:\", find_max(nums))"
      ],
      "metadata": {
        "colab": {
          "base_uri": "https://localhost:8080/"
        },
        "id": "F3Bpr75WH1SW",
        "outputId": "b1cc82ac-eeb2-40ee-bcf1-803b6b9c5cfc"
      },
      "execution_count": null,
      "outputs": [
        {
          "output_type": "stream",
          "name": "stdout",
          "text": [
            "Maximum value is: 89\n"
          ]
        }
      ]
    },
    {
      "cell_type": "markdown",
      "source": [
        "Create a list of fruits and print the second and last elements."
      ],
      "metadata": {
        "id": "GCalBWeWI-Q_"
      }
    },
    {
      "cell_type": "code",
      "source": [
        "fruits = [\"Apple\", \"Peach\", \"Mango\", \"Orange\", \"Grapes\"]\n",
        "print(\"Second fruit:\", fruits[1])\n",
        "print(\"Last fruit:\", fruits[-1])"
      ],
      "metadata": {
        "colab": {
          "base_uri": "https://localhost:8080/"
        },
        "id": "e2e4rpYTJCki",
        "outputId": "56d15732-d491-43e1-f0b1-a2c315dd925e"
      },
      "execution_count": null,
      "outputs": [
        {
          "output_type": "stream",
          "name": "stdout",
          "text": [
            "Second fruit: Peach\n",
            "Last fruit: Grapes\n"
          ]
        }
      ]
    },
    {
      "cell_type": "markdown",
      "source": [
        ". Write a program to remove all duplicates from a list."
      ],
      "metadata": {
        "id": "cUJCsgXwJtVo"
      }
    },
    {
      "cell_type": "code",
      "source": [
        "numbers = [1, 2, 3, 2, 4, 5, 1, 6, 3,4,5,7]\n",
        "unique_numbers = list(set(numbers))\n",
        "print(\"List without duplicates:\", unique_numbers)"
      ],
      "metadata": {
        "colab": {
          "base_uri": "https://localhost:8080/"
        },
        "id": "7_tIY1YhJxMa",
        "outputId": "f4f417ea-c715-46ea-d5f2-cb0624283c13"
      },
      "execution_count": null,
      "outputs": [
        {
          "output_type": "stream",
          "name": "stdout",
          "text": [
            "List without duplicates: [1, 2, 3, 4, 5, 6, 7]\n"
          ]
        }
      ]
    },
    {
      "cell_type": "markdown",
      "source": [
        "Write a Python program to find the sum and average of elements in a list."
      ],
      "metadata": {
        "id": "z4Uv0i0UKt2J"
      }
    },
    {
      "cell_type": "code",
      "source": [
        "numbers = [10, 20, 30, 40, 50]\n",
        "total_sum = sum(numbers)\n",
        "average = total_sum / len(numbers)\n",
        "print(\"Sum of elements:\", total_sum)\n",
        "print(\"Average of elements:\", average)"
      ],
      "metadata": {
        "colab": {
          "base_uri": "https://localhost:8080/"
        },
        "id": "p_1BiZmIKxkZ",
        "outputId": "9b9acd5f-4fcb-45f5-f43c-b8152750dedc"
      },
      "execution_count": null,
      "outputs": [
        {
          "output_type": "stream",
          "name": "stdout",
          "text": [
            "Sum of elements: 150\n",
            "Average of elements: 30.0\n"
          ]
        }
      ]
    },
    {
      "cell_type": "markdown",
      "source": [
        "Given a list of numbers, write a program to square each number and store the result in a new list"
      ],
      "metadata": {
        "id": "QOTaOhTCLZK2"
      }
    },
    {
      "cell_type": "code",
      "source": [
        "numbers = [1, 2, 3, 4, 5]\n",
        "squares = []\n",
        "for num in numbers:\n",
        "    squares.append(num ** 2)\n",
        "print(squares)"
      ],
      "metadata": {
        "colab": {
          "base_uri": "https://localhost:8080/"
        },
        "id": "2M3quLZyLcrq",
        "outputId": "983b0b11-3255-448e-e521-2640d1b5fec2"
      },
      "execution_count": null,
      "outputs": [
        {
          "output_type": "stream",
          "name": "stdout",
          "text": [
            "[1, 4, 9, 16, 25]\n"
          ]
        }
      ]
    },
    {
      "cell_type": "markdown",
      "source": [
        "Write a program to reverse a list without using built-in reverse() function."
      ],
      "metadata": {
        "id": "3YRtcHlMMEJJ"
      }
    },
    {
      "cell_type": "code",
      "source": [
        "numbers = [5,4,3,2,1]\n",
        "reversed_list = []\n",
        "for i in range(len(numbers) - 1, -1, -1):\n",
        "  reversed_list.append(numbers[i])\n",
        "print(\"Original list:\", numbers)\n",
        "print(\"Reversed list:\", reversed_list)"
      ],
      "metadata": {
        "colab": {
          "base_uri": "https://localhost:8080/"
        },
        "id": "Q56HgosXMI-B",
        "outputId": "538eee36-2830-4c26-92ef-71940f9ec201"
      },
      "execution_count": null,
      "outputs": [
        {
          "output_type": "stream",
          "name": "stdout",
          "text": [
            "Original list: [5, 4, 3, 2, 1]\n",
            "Reversed list: [1, 2, 3, 4, 5]\n"
          ]
        }
      ]
    },
    {
      "cell_type": "markdown",
      "source": [
        "Check whether a specific item exists in a list or not."
      ],
      "metadata": {
        "id": "7KJLozdSNAdf"
      }
    },
    {
      "cell_type": "code",
      "source": [
        "subjects = [\"Math\", \"Physics\", \"Chemistry\", \"Biology\", \"Computer\"]\n",
        "item=input(\"Please enter the subject you wanna study:  \")\n",
        "if item in subjects:\n",
        "  print(\"Yes it is available\")\n",
        "else:\n",
        "  print(\"Sorry this subject is not available\")"
      ],
      "metadata": {
        "colab": {
          "base_uri": "https://localhost:8080/"
        },
        "id": "-AwWbYqpNEQO",
        "outputId": "29bfe574-8e9a-4e8e-9194-da77ff2101ee"
      },
      "execution_count": null,
      "outputs": [
        {
          "output_type": "stream",
          "name": "stdout",
          "text": [
            "Please enter the subject you wanna study:  Math\n",
            "Yes it is available\n"
          ]
        }
      ]
    },
    {
      "cell_type": "markdown",
      "source": [
        "Create a tuple with 6 elements. Print the first, third, and last element."
      ],
      "metadata": {
        "id": "lWMXVOAROGfp"
      }
    },
    {
      "cell_type": "code",
      "source": [
        "numbers = (10, 20, 30, 40, 50, 60)\n",
        "print(\"First Element \",numbers[0])\n",
        "print(\"Third Element \",numbers[2])\n",
        "print(\"Last Element \",numbers[0])"
      ],
      "metadata": {
        "colab": {
          "base_uri": "https://localhost:8080/"
        },
        "id": "o5fI-FuSOJQi",
        "outputId": "490fe775-f944-49be-b611-df865e9282bb"
      },
      "execution_count": null,
      "outputs": [
        {
          "output_type": "stream",
          "name": "stdout",
          "text": [
            "First Element  10\n",
            "Third Element  30\n",
            "Last Element  10\n"
          ]
        }
      ]
    },
    {
      "cell_type": "markdown",
      "source": [
        "Write a Python program to convert a list into a tuple."
      ],
      "metadata": {
        "id": "WmkJk1cjOwCP"
      }
    },
    {
      "cell_type": "code",
      "source": [
        "numbers_list = [10, 20, 30, 40, 50]\n",
        "converted_to_tuple=tuple(numbers_list)\n",
        "print(\"In List Form \",numbers_list)\n",
        "print(\"In Tuple form \",converted_to_tuple)"
      ],
      "metadata": {
        "colab": {
          "base_uri": "https://localhost:8080/"
        },
        "id": "q0ug-0iCOylg",
        "outputId": "5bdea99a-38f2-42dc-d6e3-b1165ba7f63d"
      },
      "execution_count": null,
      "outputs": [
        {
          "output_type": "stream",
          "name": "stdout",
          "text": [
            "In List Form  [10, 20, 30, 40, 50]\n",
            "In Tuple form  (10, 20, 30, 40, 50)\n"
          ]
        }
      ]
    },
    {
      "cell_type": "markdown",
      "source": [
        "Write a program to count how many times an item appears in a tuple."
      ],
      "metadata": {
        "id": "y8rdArNDPTRM"
      }
    },
    {
      "cell_type": "code",
      "source": [
        "numbers = (1, 2, 3, 2, 4, 2, 5, 3, 2)\n",
        "item = int(input(\"Enter a number to count: \"))\n",
        "count = numbers.count(item)\n",
        "print(f\"{item} appears {count} times in the tuple.\")"
      ],
      "metadata": {
        "colab": {
          "base_uri": "https://localhost:8080/"
        },
        "id": "VbG6qEbQPWK1",
        "outputId": "60f9af6d-7bdc-420f-ee68-f51ca8019fad"
      },
      "execution_count": null,
      "outputs": [
        {
          "output_type": "stream",
          "name": "stdout",
          "text": [
            "Enter a number to count: 2\n",
            "2 appears 4 times in the tuple.\n"
          ]
        }
      ]
    },
    {
      "cell_type": "markdown",
      "source": [
        "Given a tuple of numbers, write a program to find the minimum and maximum values"
      ],
      "metadata": {
        "id": "7mG-H_DpQAnA"
      }
    },
    {
      "cell_type": "code",
      "source": [
        "numbers = (12, 45, 7, 89, 23, 56)\n",
        "minimum = min(numbers)\n",
        "maximum = max(numbers)\n",
        "print(\"Tuple:\", numbers)\n",
        "print(\"Minimum value:\", minimum)\n",
        "print(\"Maximum value:\", maximum)"
      ],
      "metadata": {
        "colab": {
          "base_uri": "https://localhost:8080/"
        },
        "id": "q86YxtIIQL5g",
        "outputId": "9ffed18b-635f-4a11-d14a-17c0dc36bd7d"
      },
      "execution_count": null,
      "outputs": [
        {
          "output_type": "stream",
          "name": "stdout",
          "text": [
            "Tuple: (12, 45, 7, 89, 23, 56)\n",
            "Minimum value: 7\n",
            "Maximum value: 89\n"
          ]
        }
      ]
    },
    {
      "cell_type": "markdown",
      "source": [
        "Create a tuple of student names. Try modifying one element and observe the error."
      ],
      "metadata": {
        "id": "HvIosU0QQkw7"
      }
    },
    {
      "cell_type": "code",
      "source": [
        "#As we know tuples are immutable\n",
        "students = (\"Shaista\", \"Eman\", \"Daniya\", \"Huzaifa\", \"Mubeen\")\n",
        "print(\"Original tuple:\", students)\n",
        "students[2] = \"Zahra\""
      ],
      "metadata": {
        "colab": {
          "base_uri": "https://localhost:8080/",
          "height": 193
        },
        "id": "8-D8VLlgQn6I",
        "outputId": "32ef9da5-1e91-44f5-f05b-46f07f795de1"
      },
      "execution_count": null,
      "outputs": [
        {
          "output_type": "stream",
          "name": "stdout",
          "text": [
            "Original tuple: ('Shaista', 'Eman', 'Daniya', 'Huzaifa', 'Mubeen')\n"
          ]
        },
        {
          "output_type": "error",
          "ename": "TypeError",
          "evalue": "'tuple' object does not support item assignment",
          "traceback": [
            "\u001b[0;31m---------------------------------------------------------------------------\u001b[0m",
            "\u001b[0;31mTypeError\u001b[0m                                 Traceback (most recent call last)",
            "\u001b[0;32m/tmp/ipython-input-3448900606.py\u001b[0m in \u001b[0;36m<cell line: 0>\u001b[0;34m()\u001b[0m\n\u001b[1;32m      2\u001b[0m \u001b[0mstudents\u001b[0m \u001b[0;34m=\u001b[0m \u001b[0;34m(\u001b[0m\u001b[0;34m\"Shaista\"\u001b[0m\u001b[0;34m,\u001b[0m \u001b[0;34m\"Eman\"\u001b[0m\u001b[0;34m,\u001b[0m \u001b[0;34m\"Daniya\"\u001b[0m\u001b[0;34m,\u001b[0m \u001b[0;34m\"Huzaifa\"\u001b[0m\u001b[0;34m,\u001b[0m \u001b[0;34m\"Mubeen\"\u001b[0m\u001b[0;34m)\u001b[0m\u001b[0;34m\u001b[0m\u001b[0;34m\u001b[0m\u001b[0m\n\u001b[1;32m      3\u001b[0m \u001b[0mprint\u001b[0m\u001b[0;34m(\u001b[0m\u001b[0;34m\"Original tuple:\"\u001b[0m\u001b[0;34m,\u001b[0m \u001b[0mstudents\u001b[0m\u001b[0;34m)\u001b[0m\u001b[0;34m\u001b[0m\u001b[0;34m\u001b[0m\u001b[0m\n\u001b[0;32m----> 4\u001b[0;31m \u001b[0mstudents\u001b[0m\u001b[0;34m[\u001b[0m\u001b[0;36m2\u001b[0m\u001b[0;34m]\u001b[0m \u001b[0;34m=\u001b[0m \u001b[0;34m\"Zahra\"\u001b[0m\u001b[0;34m\u001b[0m\u001b[0;34m\u001b[0m\u001b[0m\n\u001b[0m",
            "\u001b[0;31mTypeError\u001b[0m: 'tuple' object does not support item assignment"
          ]
        }
      ]
    },
    {
      "cell_type": "markdown",
      "source": [
        "Write a program that merges two lists into one and removes duplicates."
      ],
      "metadata": {
        "id": "S-gL_39nRYfU"
      }
    },
    {
      "cell_type": "code",
      "source": [
        "list1 = [1, 2, 3, 4, 5]\n",
        "list2 = [3,4,5,6,7,7,8]\n",
        "merged_list=list(set(list1+list2))\n",
        "print(\"Merged List: \",merged_list)"
      ],
      "metadata": {
        "colab": {
          "base_uri": "https://localhost:8080/"
        },
        "id": "M9hu84ZeRbho",
        "outputId": "4e4e2afd-9cc9-4eb0-f6e3-36e937fb3f00"
      },
      "execution_count": null,
      "outputs": [
        {
          "output_type": "stream",
          "name": "stdout",
          "text": [
            "Merged List:  [1, 2, 3, 4, 5, 6, 7, 8]\n"
          ]
        }
      ]
    },
    {
      "cell_type": "markdown",
      "source": [
        "Given a list of numbers, write a program to find the second largest number."
      ],
      "metadata": {
        "id": "iqOXCK7JSRdR"
      }
    },
    {
      "cell_type": "code",
      "source": [
        "numbers = [12, 45, 23, 89, 45, 67, 89]\n",
        "#we have sort the items so that largest number can be easily found\n",
        "unique_numbers = list(set(numbers))\n",
        "unique_numbers.sort()\n",
        "# Check if there are at least 2 unique numbers\n",
        "if len(unique_numbers) >= 2:\n",
        "    print(\"Second largest number is:\", unique_numbers[-2])\n",
        "else:\n",
        "  print(\"There is not enough unique numbers \")"
      ],
      "metadata": {
        "colab": {
          "base_uri": "https://localhost:8080/"
        },
        "id": "v7YH4s9qSVDt",
        "outputId": "922b63ea-dff6-4dae-9b6a-75f0930b8659"
      },
      "execution_count": null,
      "outputs": [
        {
          "output_type": "stream",
          "name": "stdout",
          "text": [
            "Second largest number is: 67\n"
          ]
        }
      ]
    }
  ]
}