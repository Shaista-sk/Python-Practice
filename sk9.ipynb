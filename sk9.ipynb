{
  "nbformat": 4,
  "nbformat_minor": 0,
  "metadata": {
    "colab": {
      "provenance": [],
      "authorship_tag": "ABX9TyPAs9oJOMu5m8HBDrttg6xh",
      "include_colab_link": true
    },
    "kernelspec": {
      "name": "python3",
      "display_name": "Python 3"
    },
    "language_info": {
      "name": "python"
    }
  },
  "cells": [
    {
      "cell_type": "markdown",
      "metadata": {
        "id": "view-in-github",
        "colab_type": "text"
      },
      "source": [
        "<a href=\"https://colab.research.google.com/github/Shaista-sk/Python-Practice/blob/main/sk9.ipynb\" target=\"_parent\"><img src=\"https://colab.research.google.com/assets/colab-badge.svg\" alt=\"Open In Colab\"/></a>"
      ]
    },
    {
      "cell_type": "markdown",
      "source": [
        "# **Python Coding Questions - Functions**"
      ],
      "metadata": {
        "id": "ybARGj3DDRvr"
      }
    },
    {
      "cell_type": "code",
      "source": [
        "#Write a function to return the maximum of three numbers.\n",
        "def maximum_of_three(a, b, c):\n",
        "  if (a >= b) and (a >= c):\n",
        "        return a\n",
        "  elif (b >= a) and (b >= c):\n",
        "        return b\n",
        "  else:\n",
        "        return c\n",
        "print(maximum_of_three(10, 95, 15))"
      ],
      "metadata": {
        "colab": {
          "base_uri": "https://localhost:8080/"
        },
        "id": "gn8L_-mPD8Kw",
        "outputId": "18aba430-3afa-4f47-9c7e-b4764902b9f1"
      },
      "execution_count": null,
      "outputs": [
        {
          "output_type": "stream",
          "name": "stdout",
          "text": [
            "95\n"
          ]
        }
      ]
    },
    {
      "cell_type": "code",
      "source": [
        "#Create a function that returns the factorial of a number using recursion\n",
        "def factorial(n):\n",
        "  if n == 0 or n == 1: #Base case\n",
        "    return 1\n",
        "  else:\n",
        "    return n*factorial(n-1)    #recursion case\n",
        "print(factorial(8))\n"
      ],
      "metadata": {
        "colab": {
          "base_uri": "https://localhost:8080/"
        },
        "id": "C7phal2aEnd5",
        "outputId": "a691c844-5a41-427e-d5a1-0fdc40e657f8"
      },
      "execution_count": null,
      "outputs": [
        {
          "output_type": "stream",
          "name": "stdout",
          "text": [
            "40320\n"
          ]
        }
      ]
    },
    {
      "cell_type": "code",
      "source": [
        "#Write a function that checks whether a number is prime.\n",
        "def is_prime(n):\n",
        "  if n <= 1:\n",
        "    return False\n",
        "  for i in range(2, int(n**0.5) + 1):\n",
        "     if n % i == 0:\n",
        "            return False\n",
        "  return True\n",
        "print(is_prime(7))\n",
        "print(is_prime(12))\n"
      ],
      "metadata": {
        "colab": {
          "base_uri": "https://localhost:8080/"
        },
        "id": "jF1es2JYFkfw",
        "outputId": "749218ee-b2f4-49a9-9eba-3ab8cf74c5ba"
      },
      "execution_count": null,
      "outputs": [
        {
          "output_type": "stream",
          "name": "stdout",
          "text": [
            "True\n",
            "False\n"
          ]
        }
      ]
    },
    {
      "cell_type": "code",
      "source": [
        "#Define a function to reverse a given string.\n",
        "def reverse_string(s):\n",
        "    return s[::-1]   # slicing method\n",
        "print(reverse_string(\"Hello\"))"
      ],
      "metadata": {
        "colab": {
          "base_uri": "https://localhost:8080/"
        },
        "id": "_nm_slKZHAkD",
        "outputId": "837c2359-7085-4a53-f2dc-ea28e2bb5752"
      },
      "execution_count": null,
      "outputs": [
        {
          "output_type": "stream",
          "name": "stdout",
          "text": [
            "olleH\n"
          ]
        }
      ]
    },
    {
      "cell_type": "code",
      "source": [
        "#Write a function that takes a list and returns the sum of all elements.\n",
        "def sum_of_list(numbers):\n",
        "    total = 0\n",
        "    for num in numbers:\n",
        "        total += num\n",
        "    return total\n",
        "print(sum_of_list([1,2,3,4,5,6,7]))\n"
      ],
      "metadata": {
        "colab": {
          "base_uri": "https://localhost:8080/"
        },
        "id": "-kzBJPioHh0_",
        "outputId": "89aa19c1-6e79-4a9a-ab56-42f91d0d7dad"
      },
      "execution_count": null,
      "outputs": [
        {
          "output_type": "stream",
          "name": "stdout",
          "text": [
            "28\n"
          ]
        }
      ]
    },
    {
      "cell_type": "code",
      "source": [
        "#Create a function to check if a string is a palindrome.\n",
        "def is_palindrome(s):\n",
        "    s = s.lower()\n",
        "    return s == s[::-1]  #slicing methode\n",
        "print(is_palindrome(\"Hello\"))\n",
        "print(is_palindrome(\"civic\"))\n",
        "print(is_palindrome(\"Radar\"))"
      ],
      "metadata": {
        "colab": {
          "base_uri": "https://localhost:8080/"
        },
        "id": "IQyCWJmMIM8C",
        "outputId": "e419c08b-0c9d-42a6-ba07-9146ce0287d7"
      },
      "execution_count": null,
      "outputs": [
        {
          "output_type": "stream",
          "name": "stdout",
          "text": [
            "False\n",
            "True\n",
            "True\n"
          ]
        }
      ]
    },
    {
      "cell_type": "code",
      "source": [
        "#Write a function to calculate the area of a circle given the radius.\n",
        "def area_of_circle(r):\n",
        "  a = 3.14*r**2\n",
        "  return (a)\n",
        "print(area_of_circle(5))"
      ],
      "metadata": {
        "colab": {
          "base_uri": "https://localhost:8080/"
        },
        "id": "SL4Qcq6SI9Y_",
        "outputId": "012b6735-db09-45f1-fffb-141506b79d42"
      },
      "execution_count": null,
      "outputs": [
        {
          "output_type": "stream",
          "name": "stdout",
          "text": [
            "78.5\n"
          ]
        }
      ]
    },
    {
      "cell_type": "code",
      "source": [
        "#Create a function to return the Fibonacci sequence up to `n` terms.\n",
        "def fibonacci(n):\n",
        "    sequence = []\n",
        "    a, b = 0, 1\n",
        "    for _ in range(n):\n",
        "        sequence.append(a)\n",
        "        a, b = b, a + b\n",
        "    return sequence\n",
        "print(fibonacci(10))"
      ],
      "metadata": {
        "colab": {
          "base_uri": "https://localhost:8080/"
        },
        "id": "F9oH3v6WJtXX",
        "outputId": "8e3b5b8f-b848-450f-92fc-89f6f5359670"
      },
      "execution_count": null,
      "outputs": [
        {
          "output_type": "stream",
          "name": "stdout",
          "text": [
            "[0, 1, 1, 2, 3, 5, 8, 13, 21, 34]\n"
          ]
        }
      ]
    },
    {
      "cell_type": "code",
      "source": [
        "#Write a function that takes a list of numbers and returns only even numbers.\n",
        "def get_even_numbers(numbers):\n",
        "    evens = []\n",
        "    for num in numbers:\n",
        "        if num % 2 == 0:\n",
        "          evens.append(num)\n",
        "    return(evens)\n",
        "print(get_even_numbers([1,2,3,4,5,6,7,8,9,10]))"
      ],
      "metadata": {
        "colab": {
          "base_uri": "https://localhost:8080/"
        },
        "id": "1nt0R94EKbgf",
        "outputId": "7f2f644a-6aff-49d8-aeca-89f66686d079"
      },
      "execution_count": null,
      "outputs": [
        {
          "output_type": "stream",
          "name": "stdout",
          "text": [
            "[2, 4, 6, 8, 10]\n"
          ]
        }
      ]
    },
    {
      "cell_type": "code",
      "source": [
        "#Define a function to count the number of vowels in a given string.\n",
        "def count_vowels(s):\n",
        "    vowels = \"aeiouAEIOU\"\n",
        "    count = 0\n",
        "    for char in s:\n",
        "        if char in vowels:\n",
        "            count += 1\n",
        "    return count\n",
        "print(count_vowels(\"Baseball Team\"))"
      ],
      "metadata": {
        "colab": {
          "base_uri": "https://localhost:8080/"
        },
        "id": "fYCmh3H5LPZg",
        "outputId": "199e8a8e-8d00-47c9-bab5-137fa7527bad"
      },
      "execution_count": null,
      "outputs": [
        {
          "output_type": "stream",
          "name": "stdout",
          "text": [
            "5\n"
          ]
        }
      ]
    },
    {
      "cell_type": "code",
      "source": [
        "#Write a function to find the GCD (Greatest Common Divisor) of two numbers.\n",
        "#Using Euclidean Algorithm\n",
        "def gcd(a, b):\n",
        "    while b != 0:\n",
        "        a, b = b, a % b\n",
        "    return a\n",
        "print(gcd(45,18))"
      ],
      "metadata": {
        "colab": {
          "base_uri": "https://localhost:8080/"
        },
        "id": "vifJDsoZLp8C",
        "outputId": "bdcfb7d9-ee25-4f6a-8867-64225e8b2751"
      },
      "execution_count": null,
      "outputs": [
        {
          "output_type": "stream",
          "name": "stdout",
          "text": [
            "9\n"
          ]
        }
      ]
    },
    {
      "cell_type": "code",
      "source": [
        "#Create a function to convert Celsius to Fahrenheit.\n",
        "def celsius_to_fahrenheit(celsius):\n",
        "    return (celsius * 9/5) + 32\n",
        "\n",
        "print(celsius_to_fahrenheit(25))\n",
        "print(celsius_to_fahrenheit(0))\n",
        "print(celsius_to_fahrenheit(100))"
      ],
      "metadata": {
        "colab": {
          "base_uri": "https://localhost:8080/"
        },
        "id": "GXc42qUoMtmz",
        "outputId": "7520540b-025f-4ea8-9901-d9f38bda6744"
      },
      "execution_count": null,
      "outputs": [
        {
          "output_type": "stream",
          "name": "stdout",
          "text": [
            "77.0\n",
            "32.0\n",
            "212.0\n"
          ]
        }
      ]
    },
    {
      "cell_type": "code",
      "source": [
        "#Define a function that accepts a sentence and returns the word with the maximum length\n",
        "def longest_word(sentence):\n",
        "    words = sentence.split()\n",
        "    longest = max(words, key=len)\n",
        "    return longest\n",
        "print(longest_word(\"Python is easy to learn programming language\"))"
      ],
      "metadata": {
        "colab": {
          "base_uri": "https://localhost:8080/"
        },
        "id": "amYjDl3BNE0U",
        "outputId": "c358ef0b-3328-4eb5-a387-fdc97be15caa"
      },
      "execution_count": null,
      "outputs": [
        {
          "output_type": "stream",
          "name": "stdout",
          "text": [
            "programming\n"
          ]
        }
      ]
    },
    {
      "cell_type": "code",
      "source": [
        "#Write a function that accepts a number and returns whether it is an Armstrong number.\n",
        "def is_armstrong(number):\n",
        "    digits = str(number)\n",
        "    power = len(digits)\n",
        "    total = sum(int(digit) ** power for digit in digits)\n",
        "    return total == number\n",
        "\n",
        "print(is_armstrong(153))\n",
        "print(is_armstrong(9474))\n",
        "print(is_armstrong(123))"
      ],
      "metadata": {
        "colab": {
          "base_uri": "https://localhost:8080/"
        },
        "id": "UuGEjXqfN-MV",
        "outputId": "a16f5b7e-ebd5-4e9e-c859-6a39f012b02e"
      },
      "execution_count": null,
      "outputs": [
        {
          "output_type": "stream",
          "name": "stdout",
          "text": [
            "True\n",
            "True\n",
            "False\n"
          ]
        }
      ]
    },
    {
      "cell_type": "code",
      "source": [
        "#. Create a function to check if two strings are anagrams.\n",
        "#An anagram means two strings have the same letters but in a different order\n",
        "def are_anagrams(str1, str2):\n",
        "  str1 = str1.replace(\" \", \"\").lower()\n",
        "  str2 = str2.replace(\" \", \"\").lower()\n",
        "  return sorted(str1) == sorted(str2)\n",
        "\n",
        "print(are_anagrams(\"rail safety\", \"fairy tales\"))\n",
        "print(are_anagrams(\"python\", \"java\"))\n"
      ],
      "metadata": {
        "colab": {
          "base_uri": "https://localhost:8080/"
        },
        "id": "3kkxiCRyPZD5",
        "outputId": "9ae1cb76-3b31-4372-c9dc-0f1fe9287fce"
      },
      "execution_count": null,
      "outputs": [
        {
          "output_type": "stream",
          "name": "stdout",
          "text": [
            "True\n",
            "False\n"
          ]
        }
      ]
    }
  ]
}