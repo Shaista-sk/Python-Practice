{
  "nbformat": 4,
  "nbformat_minor": 0,
  "metadata": {
    "colab": {
      "provenance": []
    },
    "kernelspec": {
      "name": "python3",
      "display_name": "Python 3"
    },
    "language_info": {
      "name": "python"
    }
  },
  "cells": [
    {
      "cell_type": "markdown",
      "source": [
        "# **1.\tQ1. Write a Python program to assign your name to a variable and print it.**"
      ],
      "metadata": {
        "id": "sBoRRX-KJntB"
      }
    },
    {
      "cell_type": "code",
      "source": [
        "# Assigning name to a variable\n",
        "name = \"Shaista Kanwal\"\n",
        "\n",
        "print(name)\n"
      ],
      "metadata": {
        "colab": {
          "base_uri": "https://localhost:8080/"
        },
        "id": "3jI2whzxJtha",
        "outputId": "c5cde586-e88d-4687-c080-afe2cf763a79"
      },
      "execution_count": null,
      "outputs": [
        {
          "output_type": "stream",
          "name": "stdout",
          "text": [
            "Shaista Kanwal\n"
          ]
        }
      ]
    },
    {
      "cell_type": "markdown",
      "source": [
        "# **2.\tQ2. Swap the values of two variables a = 5 and b = 10 and print them**"
      ],
      "metadata": {
        "id": "JJuwjS3OJ734"
      }
    },
    {
      "cell_type": "code",
      "source": [
        "\n",
        "a = 5\n",
        "b = 10\n",
        "\n",
        "# Swapping\n",
        "a, b = b, a\n",
        "\n",
        "\n",
        "print(\"a =\", a)\n",
        "print(\"b =\", b)\n"
      ],
      "metadata": {
        "colab": {
          "base_uri": "https://localhost:8080/"
        },
        "id": "vjok-EplKEvw",
        "outputId": "52d8215e-10f9-46a7-c26c-f89ee19acfa0"
      },
      "execution_count": null,
      "outputs": [
        {
          "output_type": "stream",
          "name": "stdout",
          "text": [
            "a = 10\n",
            "b = 5\n"
          ]
        }
      ]
    },
    {
      "cell_type": "markdown",
      "source": [
        "# **3.\tQ3. Assign values to three variables in a single line and print them.**"
      ],
      "metadata": {
        "id": "L4x9r8CCKWaP"
      }
    },
    {
      "cell_type": "code",
      "source": [
        "# Assigning values in one line\n",
        "x, y, z = 10, 20, 30\n",
        "\n",
        "print(x, y, z)"
      ],
      "metadata": {
        "colab": {
          "base_uri": "https://localhost:8080/"
        },
        "id": "H0iZZXWnKd3H",
        "outputId": "f5e0a84d-8ae0-4751-a01b-d62bdc0c6065"
      },
      "execution_count": null,
      "outputs": [
        {
          "output_type": "stream",
          "name": "stdout",
          "text": [
            "10 20 30\n"
          ]
        }
      ]
    },
    {
      "cell_type": "markdown",
      "source": [
        "# **4.\tQ4. What will be the output of the following code?**\n",
        "x = 10  \n",
        "y = x + 5  \n",
        "print(y)\n"
      ],
      "metadata": {
        "id": "SAShbvgsKsdl"
      }
    },
    {
      "cell_type": "markdown",
      "source": [
        "output:15"
      ],
      "metadata": {
        "id": "ljH0JdKBK8HE"
      }
    },
    {
      "cell_type": "markdown",
      "source": [
        "# **5.\tQ5. Take a user's name and age as input and print them in a single line using formatted strings.**"
      ],
      "metadata": {
        "id": "zhKYTpFmLGT6"
      }
    },
    {
      "cell_type": "code",
      "source": [
        "# Taking input from user\n",
        "name = input(\"Enter your name: \")\n",
        "age = input(\"Enter your age: \")\n",
        "\n",
        "# Printing using f string\n",
        "print(f\"My name is {name} and I am {age} years old.\")\n"
      ],
      "metadata": {
        "id": "rgobsDUCLNIW"
      },
      "execution_count": null,
      "outputs": []
    },
    {
      "cell_type": "markdown",
      "source": [
        "# **6.\tQ6. What are keywords in Python? List any 5 Python keywords.**"
      ],
      "metadata": {
        "id": "cJMSag7DLvty"
      }
    },
    {
      "cell_type": "markdown",
      "source": [
        "Keywords are reserved words in Python that have special meanings and purposes.\n",
        "\n",
        "They cannot be used as variable names or identifiers.\n",
        "\n",
        "5 Python keywords::\n",
        "\n",
        "if\n",
        "\n",
        "else\n",
        "\n",
        "while\n",
        "\n",
        "for\n",
        "\n",
        "def"
      ],
      "metadata": {
        "id": "HofId6mbL20n"
      }
    },
    {
      "cell_type": "markdown",
      "source": [
        "# **7.\tQ7. Is class, def, or for a variable name? Why or why not?**"
      ],
      "metadata": {
        "id": "H9iUuE5bMKhm"
      }
    },
    {
      "cell_type": "markdown",
      "source": [
        "class, def, and for cannot be used as variable names in Python because they are keywords (reserved words)."
      ],
      "metadata": {
        "id": "2ABopD4VMZ95"
      }
    },
    {
      "cell_type": "markdown",
      "source": [
        "# **8.\tQ8. Write a program using if, else, and elif keywords to check if a number is positive, negative, or zero.**"
      ],
      "metadata": {
        "id": "7MQDVWEFMboA"
      }
    },
    {
      "cell_type": "code",
      "source": [
        "# Taking input from user\n",
        "num = int(input(\"Enter a number: \"))\n",
        "\n",
        "\n",
        "if num > 0:\n",
        "    print(\"The number is Positive\")\n",
        "elif num < 0:\n",
        "    print(\"The number is Negative\")\n",
        "else:\n",
        "    print(\"The number is Zero\")\n"
      ],
      "metadata": {
        "id": "sXwGysjPMhi3"
      },
      "execution_count": null,
      "outputs": []
    },
    {
      "cell_type": "markdown",
      "source": [
        "#\tQ9. **Identify the keyword in this code:**\n",
        "def greet()\n",
        "    print(\"Hello World\")\n"
      ],
      "metadata": {
        "id": "2G0CbjNbNASf"
      }
    },
    {
      "cell_type": "markdown",
      "source": [
        "def  which is a Python keyword (used to define functions)."
      ],
      "metadata": {
        "id": "pLZFSJklNVi9"
      }
    },
    {
      "cell_type": "markdown",
      "source": [
        "#\tQ10. **Write a Python program that uses the True and False keywords in a condition.**"
      ],
      "metadata": {
        "id": "qzk5HrESNmf1"
      }
    },
    {
      "cell_type": "code",
      "source": [
        "is_raining = True\n",
        "have_umbrella = False\n",
        "\n",
        "if is_raining:\n",
        "    print(\"It's raining outside!\")\n",
        "\n",
        "if have_umbrella:\n",
        "    print(\"You can go out safely.\")\n",
        "else:\n",
        "    print(\"Better stay home or you’ll get wet!\")\n"
      ],
      "metadata": {
        "id": "7_rbZ8oBN3ae"
      },
      "execution_count": null,
      "outputs": []
    },
    {
      "cell_type": "markdown",
      "source": [
        "# **.\tQ11. Declare variables of the following types and print them: integer, float, string, boolean, list**"
      ],
      "metadata": {
        "id": "KFEYNlHZOXhz"
      }
    },
    {
      "cell_type": "code",
      "source": [
        "# Integer\n",
        "age = 20\n",
        "print(\"Integer:\", age)\n",
        "\n",
        "# Float\n",
        "temperature = 36.6\n",
        "print(\"Float:\", temperature)\n",
        "\n",
        "# String\n",
        "name = \"Shaista\"\n",
        "print(\"String:\", name)\n",
        "\n",
        "# Boolean\n",
        "is_student = True\n",
        "print(\"Boolean:\", is_student)\n",
        "\n",
        "# List\n",
        "fruits = [\"apple\", \"banana\", \"mango\"]\n",
        "print(\"List:\", fruits)\n"
      ],
      "metadata": {
        "id": "IMn5w6BgOmm0"
      },
      "execution_count": null,
      "outputs": []
    },
    {
      "cell_type": "markdown",
      "source": [
        "#\tQ12. **What will be the output and data type of this code?**  \n",
        "x = 5.0 + 3  \n",
        "print(x, type(x))\n"
      ],
      "metadata": {
        "id": "vaRC7l9LPXPW"
      }
    },
    {
      "cell_type": "markdown",
      "source": [
        "In Python, when we add an integer to a float, the result automatically becomes float (because float is more precise).\n",
        "\n",
        "So:\n",
        "output: 8.0  \n",
        "\n",
        "data type is float"
      ],
      "metadata": {
        "id": "tyDflZR4PyIC"
      }
    },
    {
      "cell_type": "markdown",
      "source": [
        "# **Q13. Convert the string \"123\" to an integer and perform addition with 7.**"
      ],
      "metadata": {
        "id": "lnee4lf1P7RH"
      }
    },
    {
      "cell_type": "code",
      "source": [
        "num_str = \"123\"      # string\n",
        "num_int = int(num_str)   # convert string to integer\n",
        "result = num_int + 7\n",
        "print(result)\n"
      ],
      "metadata": {
        "id": "IVSMwQbLQEee"
      },
      "execution_count": null,
      "outputs": []
    },
    {
      "cell_type": "markdown",
      "source": [
        "#\tQ14. **Create a variable a = 5 and check if it's of type int.**"
      ],
      "metadata": {
        "id": "8golKfi9QWvZ"
      }
    },
    {
      "cell_type": "code",
      "source": [
        "a = 5\n",
        "if isinstance(a, int):\n",
        "    print(\"a is of type int\")\n",
        "else:\n",
        "    print(\"a is not of type int\")\n"
      ],
      "metadata": {
        "id": "ftz9o3yIQc8_"
      },
      "execution_count": null,
      "outputs": []
    },
    {
      "cell_type": "markdown",
      "source": [
        "**OR**"
      ],
      "metadata": {
        "id": "g35O-Oh2Q_FA"
      }
    },
    {
      "cell_type": "code",
      "source": [
        "a = 5\n",
        "if type(a) == int:\n",
        "    print(\"a is of type int\")\n",
        "else:\n",
        "    print(\"a is not of type int\")\n"
      ],
      "metadata": {
        "id": "MLnmfoIhRBgs"
      },
      "execution_count": null,
      "outputs": []
    },
    {
      "cell_type": "markdown",
      "source": [
        "#\tQ15. **Write a program to take two numbers as input from the user, add them, and print the result with proper type conversion.**"
      ],
      "metadata": {
        "id": "s7Vr17vgRLPa"
      }
    },
    {
      "cell_type": "code",
      "source": [
        "# Taking two numbers from the user\n",
        "num1 = int(input(\"Enter first number: \"))\n",
        "num2 = int(input(\"Enter second number: \"))\n",
        "\n",
        "# Adding them\n",
        "result = num1 + num2\n",
        "\n",
        "# Printing the result\n",
        "print(\"The sum is:\", result)\n",
        "\n",
        "\n",
        "#If we don’t use int(), Python will treat inputs as strings and simply join them instead of adding:"
      ],
      "metadata": {
        "id": "b4fQhlPfRUcf"
      },
      "execution_count": null,
      "outputs": []
    }
  ]
}