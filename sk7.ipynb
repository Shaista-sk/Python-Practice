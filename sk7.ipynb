{
  "nbformat": 4,
  "nbformat_minor": 0,
  "metadata": {
    "colab": {
      "provenance": [],
      "authorship_tag": "ABX9TyNEZ604Q9hjsu1Dkm+p9zdi",
      "include_colab_link": true
    },
    "kernelspec": {
      "name": "python3",
      "display_name": "Python 3"
    },
    "language_info": {
      "name": "python"
    }
  },
  "cells": [
    {
      "cell_type": "markdown",
      "metadata": {
        "id": "view-in-github",
        "colab_type": "text"
      },
      "source": [
        "<a href=\"https://colab.research.google.com/github/Shaista-sk/Python-Practice/blob/main/sk7.ipynb\" target=\"_parent\"><img src=\"https://colab.research.google.com/assets/colab-badge.svg\" alt=\"Open In Colab\"/></a>"
      ]
    },
    {
      "cell_type": "markdown",
      "source": [
        "# Data Structures - Part 2  \n",
        "Sub Topics: Sets, Dictionary, String Methods"
      ],
      "metadata": {
        "id": "HvamMfYsW698"
      }
    },
    {
      "cell_type": "code",
      "source": [
        "#\t1. Create a set from this list: [1, 2, 2, 3, 4, 4, 5]. Print the set.\n",
        "nums = [1, 2, 2, 3, 4, 4, 5]\n",
        "unique_nums = set(nums)\n",
        "print(unique_nums)"
      ],
      "metadata": {
        "colab": {
          "base_uri": "https://localhost:8080/"
        },
        "id": "m9DdDrD7XKpl",
        "outputId": "8f38bffa-0502-4f8a-a54b-3e5fcc5f6b85"
      },
      "execution_count": null,
      "outputs": [
        {
          "output_type": "stream",
          "name": "stdout",
          "text": [
            "{1, 2, 3, 4, 5}\n"
          ]
        }
      ]
    },
    {
      "cell_type": "code",
      "source": [
        "#Create a dictionary with your name, age, and city. Print the dictionary.\n",
        "person = {\n",
        "    \"name\": \"Shaista\",\n",
        "    \"age\": 20,\n",
        "    \"city\": \"Taxila\"\n",
        "    }\n",
        "print(person)"
      ],
      "metadata": {
        "colab": {
          "base_uri": "https://localhost:8080/"
        },
        "id": "v40b0sxwXrPS",
        "outputId": "876d1313-6d2c-4b63-916b-19afcec925ed"
      },
      "execution_count": null,
      "outputs": [
        {
          "output_type": "stream",
          "name": "stdout",
          "text": [
            "{'name': 'Shaista', 'age': 20, 'city': 'Taxila'}\n"
          ]
        }
      ]
    },
    {
      "cell_type": "code",
      "source": [
        "#. Use a string method to convert the string 'hello world' to uppercase.\n",
        "text = \"hello world\"\n",
        "upper_text = text.upper()\n",
        "print(upper_text)"
      ],
      "metadata": {
        "colab": {
          "base_uri": "https://localhost:8080/"
        },
        "id": "1ajxNp8oYR6-",
        "outputId": "cbae39e8-39e5-409f-a5bb-9705cf94a66a"
      },
      "execution_count": null,
      "outputs": [
        {
          "output_type": "stream",
          "name": "stdout",
          "text": [
            "HELLO WORLD\n"
          ]
        }
      ]
    },
    {
      "cell_type": "code",
      "source": [
        "#Find the length of the string 'Python Programming'.\n",
        "text=\"Pyhton Programming\"\n",
        "length=len(text)\n",
        "print(length)"
      ],
      "metadata": {
        "colab": {
          "base_uri": "https://localhost:8080/"
        },
        "id": "O1akACyCYh4a",
        "outputId": "df462283-0bf5-41f5-886c-1bc05975aaf4"
      },
      "execution_count": null,
      "outputs": [
        {
          "output_type": "stream",
          "name": "stdout",
          "text": [
            "18\n"
          ]
        }
      ]
    },
    {
      "cell_type": "code",
      "source": [
        "#Check if the word 'apple' is in the set {'banana', 'apple', 'orange'}.\n",
        "fruits={'banana','apple','orange'}\n",
        "if \"apple\" in fruits:\n",
        "   print(\"Yes the word apple is in the set\")\n",
        "else:\n",
        "  print(\"No the word apple is not in the set\")"
      ],
      "metadata": {
        "colab": {
          "base_uri": "https://localhost:8080/"
        },
        "id": "jA4JVBbxY6Tb",
        "outputId": "c99f7b09-3615-4bd8-fb1e-7cfa09d4731e"
      },
      "execution_count": null,
      "outputs": [
        {
          "output_type": "stream",
          "name": "stdout",
          "text": [
            "Yes the word apple is in the set\n"
          ]
        }
      ]
    },
    {
      "cell_type": "code",
      "source": [
        "#Print all keys from the dictionary: {'name': 'Ali', 'age': 25, 'city': 'Lahore'}.\n",
        "person={'name': 'Ali', 'age': 25, 'city': 'Lahore'}\n",
        "print(person.keys())"
      ],
      "metadata": {
        "colab": {
          "base_uri": "https://localhost:8080/"
        },
        "id": "8vs0JZXOZjHC",
        "outputId": "03ff3f41-190c-4a71-d9c5-df56f571086b"
      },
      "execution_count": null,
      "outputs": [
        {
          "output_type": "stream",
          "name": "stdout",
          "text": [
            "dict_keys(['name', 'age', 'city'])\n"
          ]
        }
      ]
    },
    {
      "cell_type": "code",
      "source": [
        "#Use string method to count how many times 'a' appears in 'banana'.\n",
        "word=\"banana\"\n",
        "count_of_a = word.count('a')\n",
        "print(count_of_a)"
      ],
      "metadata": {
        "colab": {
          "base_uri": "https://localhost:8080/"
        },
        "id": "YgFi3g18aDBi",
        "outputId": "4eff044a-8e2d-420b-999c-1587b57824b8"
      },
      "execution_count": null,
      "outputs": [
        {
          "output_type": "stream",
          "name": "stdout",
          "text": [
            "3\n"
          ]
        }
      ]
    },
    {
      "cell_type": "code",
      "source": [
        "#Add an item to this set: {'red', 'green'}. Add 'blue'.\n",
        "colors = {\"red\", \"green\"}\n",
        "colors.add(\"blue\")\n",
        "print(colors)"
      ],
      "metadata": {
        "colab": {
          "base_uri": "https://localhost:8080/"
        },
        "id": "hnWJoyFRajAF",
        "outputId": "81c89717-5500-4caa-9f6e-0511db0bbc46"
      },
      "execution_count": null,
      "outputs": [
        {
          "output_type": "stream",
          "name": "stdout",
          "text": [
            "{'red', 'blue', 'green'}\n"
          ]
        }
      ]
    },
    {
      "cell_type": "code",
      "source": [
        "#Change the value of 'age' in the dictionary {'name': 'Sara', 'age': 22} to 23.\n",
        "person={'name': 'Sara', 'age': 22}\n",
        "person['age'] = 23\n",
        "print(person)"
      ],
      "metadata": {
        "colab": {
          "base_uri": "https://localhost:8080/"
        },
        "id": "-UHPzy8cax_S",
        "outputId": "1719d89e-9132-4a79-ff30-78292f6347db"
      },
      "execution_count": null,
      "outputs": [
        {
          "output_type": "stream",
          "name": "stdout",
          "text": [
            "{'name': 'Sara', 'age': 23}\n"
          ]
        }
      ]
    },
    {
      "cell_type": "code",
      "source": [
        "#Remove the word 'cat' from the set {'cat', 'dog', 'mouse'}.\n",
        "animals={'cat', 'dog', 'mouse'}\n",
        "animals.remove('cat')\n",
        "print(animals)"
      ],
      "metadata": {
        "colab": {
          "base_uri": "https://localhost:8080/"
        },
        "id": "YO5jdo84baTa",
        "outputId": "c7ae27bc-a12a-4567-ebf0-0961c3bb4101"
      },
      "execution_count": null,
      "outputs": [
        {
          "output_type": "stream",
          "name": "stdout",
          "text": [
            "{'mouse', 'dog'}\n"
          ]
        }
      ]
    },
    {
      "cell_type": "code",
      "source": [
        "#Split the string 'apple, banana, orange' into a list using string method.\n",
        "fruits='apple,banana,orange'\n",
        "list_fruits= fruits.split(\",\")\n",
        "print(list_fruits)"
      ],
      "metadata": {
        "colab": {
          "base_uri": "https://localhost:8080/"
        },
        "id": "z02pE110cDbX",
        "outputId": "4b65931c-881e-461d-9e8d-86ed11a858e3"
      },
      "execution_count": null,
      "outputs": [
        {
          "output_type": "stream",
          "name": "stdout",
          "text": [
            "['apple', 'banana', 'orange']\n"
          ]
        }
      ]
    },
    {
      "cell_type": "code",
      "source": [
        "#Check if key 'city' exists in the dictionary {'name': 'Ali', 'city': 'Karachi'}.\n",
        "person={'name': 'Ali', 'city': 'Karachi'}\n",
        "if 'city' in person:\n",
        "  print(\"Yes the Key 'city' is in the dictionary\")\n",
        "else:\n",
        "   print(\"No, the Key 'city' is not in the dictionary\")"
      ],
      "metadata": {
        "colab": {
          "base_uri": "https://localhost:8080/"
        },
        "id": "w_7K6SLAcdGI",
        "outputId": "d4afe8a3-50e9-46ea-c2cc-4d6e3e2b9ab9"
      },
      "execution_count": null,
      "outputs": [
        {
          "output_type": "stream",
          "name": "stdout",
          "text": [
            "Yes the Key 'city' is in the dictionary\n"
          ]
        }
      ]
    },
    {
      "cell_type": "code",
      "source": [
        "#Join the list ['Python', 'is', 'fun'] into a single string.\n",
        "words=['Python', 'is', 'fun']\n",
        "sentence = \" \".join(words)\n",
        "print(sentence)"
      ],
      "metadata": {
        "colab": {
          "base_uri": "https://localhost:8080/"
        },
        "id": "nDA_rlp5dLv9",
        "outputId": "d4e71294-5994-4586-b54c-fde43bb916d0"
      },
      "execution_count": null,
      "outputs": [
        {
          "output_type": "stream",
          "name": "stdout",
          "text": [
            "Python is fun\n"
          ]
        }
      ]
    },
    {
      "cell_type": "code",
      "source": [
        "# Clear all items from the dictionary {'a': 1, 'b': 2}.\n",
        "dic= {'a': 1, 'b': 2}\n",
        "dic.clear()\n",
        "print(dic)"
      ],
      "metadata": {
        "colab": {
          "base_uri": "https://localhost:8080/"
        },
        "id": "zQB6H2JZdsID",
        "outputId": "900b1ca9-e1ab-4365-80e4-22f30f2cf07e"
      },
      "execution_count": null,
      "outputs": [
        {
          "output_type": "stream",
          "name": "stdout",
          "text": [
            "{}\n"
          ]
        }
      ]
    },
    {
      "cell_type": "code",
      "source": [
        "#Use a string method to replace 'world' with 'Python' in the string 'hello world'.\n",
        "original = 'hello world'\n",
        "modified = original.replace(\"world\",\"Python\")\n",
        "print(modified)"
      ],
      "metadata": {
        "colab": {
          "base_uri": "https://localhost:8080/"
        },
        "id": "dPYuMo_weTe6",
        "outputId": "10dcdacb-0944-42fa-eec6-475e56aabbb3"
      },
      "execution_count": null,
      "outputs": [
        {
          "output_type": "stream",
          "name": "stdout",
          "text": [
            "hello Python\n"
          ]
        }
      ]
    }
  ]
}