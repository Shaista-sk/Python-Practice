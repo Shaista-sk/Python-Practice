{
  "nbformat": 4,
  "nbformat_minor": 0,
  "metadata": {
    "colab": {
      "provenance": [],
      "authorship_tag": "ABX9TyMKuGa4jLrKM5paZhG2Is3h",
      "include_colab_link": true
    },
    "kernelspec": {
      "name": "python3",
      "display_name": "Python 3"
    },
    "language_info": {
      "name": "python"
    }
  },
  "cells": [
    {
      "cell_type": "markdown",
      "metadata": {
        "id": "view-in-github",
        "colab_type": "text"
      },
      "source": [
        "<a href=\"https://colab.research.google.com/github/Shaista-sk/Python-Practice/blob/main/sk5.ipynb\" target=\"_parent\"><img src=\"https://colab.research.google.com/assets/colab-badge.svg\" alt=\"Open In Colab\"/></a>"
      ]
    },
    {
      "cell_type": "markdown",
      "source": [
        "# Basic `for`, `while`, and `range` Questions  \n",
        "\n",
        "\t1. Write a program using a `for` loop and `range()` to print numbers from 1 to 10.\n"
      ],
      "metadata": {
        "id": "36TsAxHXzujp"
      }
    },
    {
      "cell_type": "code",
      "source": [
        "for num in range(1,11):\n",
        "   print(num)"
      ],
      "metadata": {
        "colab": {
          "base_uri": "https://localhost:8080/"
        },
        "id": "kzRGhz5M0M4M",
        "outputId": "e33ae0b7-b31c-4fa0-d4da-07cc0801decc"
      },
      "execution_count": null,
      "outputs": [
        {
          "output_type": "stream",
          "name": "stdout",
          "text": [
            "1\n",
            "2\n",
            "3\n",
            "4\n",
            "5\n",
            "6\n",
            "7\n",
            "8\n",
            "9\n",
            "10\n"
          ]
        }
      ]
    },
    {
      "cell_type": "markdown",
      "source": [
        "#\t2. Write a program using a `while` loop to print the first 10 natural numbers"
      ],
      "metadata": {
        "id": "WOxV2WZa0l91"
      }
    },
    {
      "cell_type": "code",
      "source": [
        "\n",
        "\n",
        "num = 1           # starting point\n",
        "while num <= 10:  # condition (runs until num is 10)\n",
        "    print(num)\n",
        "    num += 1\n"
      ],
      "metadata": {
        "colab": {
          "base_uri": "https://localhost:8080/"
        },
        "id": "XOSqFKAy0s9A",
        "outputId": "f626eaff-b95e-4380-f724-2e2f3f6b2fe0"
      },
      "execution_count": null,
      "outputs": [
        {
          "output_type": "stream",
          "name": "stdout",
          "text": [
            "1\n",
            "2\n",
            "3\n",
            "4\n",
            "5\n",
            "6\n",
            "7\n",
            "8\n",
            "9\n",
            "10\n"
          ]
        }
      ]
    },
    {
      "cell_type": "markdown",
      "source": [
        "#\t3. Print all even numbers between 1 and 50 using a `for` loop and `range()`."
      ],
      "metadata": {
        "id": "S22MJtlU07Cd"
      }
    },
    {
      "cell_type": "code",
      "source": [
        "for num in range(1, 51):\n",
        "    if (num % 2 == 0):   # check if number is divisible by 2\n",
        "        print(num)\n"
      ],
      "metadata": {
        "colab": {
          "base_uri": "https://localhost:8080/"
        },
        "id": "gET0W2D90_-N",
        "outputId": "08e302d4-1f09-4bd1-993b-ed293d6f5e74"
      },
      "execution_count": null,
      "outputs": [
        {
          "output_type": "stream",
          "name": "stdout",
          "text": [
            "2\n",
            "4\n",
            "6\n",
            "8\n",
            "10\n",
            "12\n",
            "14\n",
            "16\n",
            "18\n",
            "20\n",
            "22\n",
            "24\n",
            "26\n",
            "28\n",
            "30\n",
            "32\n",
            "34\n",
            "36\n",
            "38\n",
            "40\n",
            "42\n",
            "44\n",
            "46\n",
            "48\n",
            "50\n"
          ]
        }
      ]
    },
    {
      "cell_type": "markdown",
      "source": [
        "# Print the sum of numbers from 1 to 100 using a `for` loop."
      ],
      "metadata": {
        "id": "MzGattBR1W5D"
      }
    },
    {
      "cell_type": "code",
      "source": [
        "sum = 0\n",
        "for num in range(1, 101):   # range(1, 101) means 1 to 100\n",
        "    sum += num            # adding each number to sum\n",
        "\n",
        "print(\"The sum of numbers from 1 to 100 is:\", sum)\n"
      ],
      "metadata": {
        "colab": {
          "base_uri": "https://localhost:8080/"
        },
        "id": "6wfJQZVP1bsX",
        "outputId": "e573ad63-ddc8-4f49-8591-497f2ec02365"
      },
      "execution_count": null,
      "outputs": [
        {
          "output_type": "stream",
          "name": "stdout",
          "text": [
            "The sum of numbers from 1 to 100 is: 5050\n"
          ]
        }
      ]
    },
    {
      "cell_type": "markdown",
      "source": [
        "# Use a `while` loop to calculate the factorial of a number entered by the user."
      ],
      "metadata": {
        "id": "pRuiNFVS1yJE"
      }
    },
    {
      "cell_type": "code",
      "source": [
        "\n",
        "\n",
        "num = int(input(\"Enter a number: \"))\n",
        "factorial = 1\n",
        "i = 1\n",
        "\n",
        "while (i <= num):\n",
        "    factorial= factorial*i   # multiply factorial by i\n",
        "    i += 1           # move to next number\n",
        "\n",
        "print(\"Factorial of\", num, \"is:\", factorial)\n"
      ],
      "metadata": {
        "colab": {
          "base_uri": "https://localhost:8080/"
        },
        "id": "oCwtetW412mF",
        "outputId": "40858a11-d6a4-4be2-ddb0-19c6cabb3a4d"
      },
      "execution_count": null,
      "outputs": [
        {
          "output_type": "stream",
          "name": "stdout",
          "text": [
            "Enter a number: 4\n",
            "Factorial of 4 is: 24\n"
          ]
        }
      ]
    },
    {
      "cell_type": "markdown",
      "source": [
        "# **Loop Patterns with `for` and `while**\n",
        "6. Print the following pattern using a `for` loop:  \n",
        "\n",
        "\n",
        "  \n"
      ],
      "metadata": {
        "id": "qGBEQFIR2WCr"
      }
    },
    {
      "cell_type": "code",
      "source": [
        "for i in range(1, 6):          # outer loop (rows)\n",
        "    for j in range(i):         # inner loop (columns)\n",
        "        print(\"*\", end=\"\")     # print stars in same line\n",
        "    print()                    # move to next line\n"
      ],
      "metadata": {
        "colab": {
          "base_uri": "https://localhost:8080/"
        },
        "id": "rwwkiXu72vcu",
        "outputId": "6f7a1459-f117-4384-a40c-32069c1000ed"
      },
      "execution_count": null,
      "outputs": [
        {
          "output_type": "stream",
          "name": "stdout",
          "text": [
            "*\n",
            "**\n",
            "***\n",
            "****\n",
            "*****\n"
          ]
        }
      ]
    },
    {
      "cell_type": "markdown",
      "source": [
        "7.\t7. Print this pattern using nested `for` loops:  \n",
        "\n",
        "   1  \n",
        "\n",
        "   12  \n",
        "\n",
        "   123  \n",
        "\n",
        "   1234  \n",
        "   \n",
        "   12345\n"
      ],
      "metadata": {
        "id": "wOiMdV8S3WQ1"
      }
    },
    {
      "cell_type": "code",
      "source": [
        "for i in range(1,6):\n",
        "  for j in range(i):\n",
        "    print(j+1,end=\"\")\n",
        "  print()"
      ],
      "metadata": {
        "colab": {
          "base_uri": "https://localhost:8080/"
        },
        "id": "bWmag46e3fzb",
        "outputId": "0ea13648-6915-4a34-c88b-efcc44160317"
      },
      "execution_count": null,
      "outputs": [
        {
          "output_type": "stream",
          "name": "stdout",
          "text": [
            "1\n",
            "12\n",
            "123\n",
            "1234\n",
            "12345\n"
          ]
        }
      ]
    },
    {
      "cell_type": "markdown",
      "source": [
        "8.\t8. Create a loop pattern of stars in reverse:\n",
        "   \n"
      ],
      "metadata": {
        "id": "c4iZCLgg4HWk"
      }
    },
    {
      "cell_type": "code",
      "source": [
        "for i in range(5, 0, -1):       # outer loop (rows) from 5 to 1\n",
        "    for j in range(i):          # inner loop prints i stars\n",
        "        print(\"*\", end=\"\")\n",
        "    print()                     # move to next line\n"
      ],
      "metadata": {
        "colab": {
          "base_uri": "https://localhost:8080/"
        },
        "id": "xBASoW0n4MYV",
        "outputId": "32453080-31d1-4675-8181-ee4ebccff427"
      },
      "execution_count": null,
      "outputs": [
        {
          "output_type": "stream",
          "name": "stdout",
          "text": [
            "*****\n",
            "****\n",
            "***\n",
            "**\n",
            "*\n"
          ]
        }
      ]
    },
    {
      "cell_type": "markdown",
      "source": [
        "Write a `for` loop to print the multiplication table of any number entered by the user."
      ],
      "metadata": {
        "id": "hlFBG2dW4dsQ"
      }
    },
    {
      "cell_type": "code",
      "source": [
        "num = int(input(\"Enter a number: \"))\n",
        "\n",
        "print(f\"\\nMultiplication Table of {num}\\n\")\n",
        "for i in range(1, 11):   # loop from 1 to 10\n",
        "    print(f\"{num} x {i} = {num * i}\")\n"
      ],
      "metadata": {
        "colab": {
          "base_uri": "https://localhost:8080/"
        },
        "id": "SxNp12jI4oSx",
        "outputId": "276109c6-18cd-4bce-b175-e6fce287c8de"
      },
      "execution_count": null,
      "outputs": [
        {
          "output_type": "stream",
          "name": "stdout",
          "text": [
            "Enter a number: 9\n",
            "\n",
            "Multiplication Table of 9\n",
            "\n",
            "9 x 1 = 9\n",
            "9 x 2 = 18\n",
            "9 x 3 = 27\n",
            "9 x 4 = 36\n",
            "9 x 5 = 45\n",
            "9 x 6 = 54\n",
            "9 x 7 = 63\n",
            "9 x 8 = 72\n",
            "9 x 9 = 81\n",
            "9 x 10 = 90\n"
          ]
        }
      ]
    },
    {
      "cell_type": "markdown",
      "source": [
        "\t10. Use a `while` loop to print the digits of a number in reverse order (e.g., 1234 → 4 3 2 1)."
      ],
      "metadata": {
        "id": "Ac-3Ozk05C7z"
      }
    },
    {
      "cell_type": "code",
      "source": [
        "num = int(input(\"Enter a number: \"))\n",
        "\n",
        "print(\"Digits in reverse order:\")\n",
        "while num > 0:\n",
        "    digit = num % 10      # get last digit\n",
        "    print(digit, end=\" \") # print digit\n",
        "    num = num // 10       # remove last digit\n"
      ],
      "metadata": {
        "colab": {
          "base_uri": "https://localhost:8080/"
        },
        "id": "pBdi78YH5K3y",
        "outputId": "9d8db051-90f4-4973-d8ab-52411cacb676"
      },
      "execution_count": null,
      "outputs": [
        {
          "output_type": "stream",
          "name": "stdout",
          "text": [
            "Enter a number: 1234\n",
            "Digits in reverse order:\n",
            "4 3 2 1 "
          ]
        }
      ]
    },
    {
      "cell_type": "markdown",
      "source": [
        "# **Intermediate Logic with Loops**\n",
        "\t11. Print all prime numbers between 1 and 100 using a loop."
      ],
      "metadata": {
        "id": "5qeaqJwi5jID"
      }
    },
    {
      "cell_type": "code",
      "source": [
        "print(\"Prime numbers between 1 and 100 are:\")\n",
        "\n",
        "for num in range(2, 101):          # numbers from 2 to 100\n",
        "    is_prime = True                # assume prime\n",
        "\n",
        "    for i in range(2, num):        # check all numbers from 2 to num-1\n",
        "        if (num % i) == 0:           # if divisible\n",
        "            is_prime = False\n",
        "            break\n",
        "\n",
        "    if is_prime:\n",
        "        print(num, end=\" \")\n"
      ],
      "metadata": {
        "colab": {
          "base_uri": "https://localhost:8080/"
        },
        "id": "UzLLxetI50f5",
        "outputId": "f60cad40-3cd7-4065-c1bf-96f08f678726"
      },
      "execution_count": null,
      "outputs": [
        {
          "output_type": "stream",
          "name": "stdout",
          "text": [
            "Prime numbers between 1 and 100 are:\n",
            "2 3 5 7 11 13 17 19 23 29 31 37 41 43 47 53 59 61 67 71 73 79 83 89 97 "
          ]
        }
      ]
    },
    {
      "cell_type": "markdown",
      "source": [
        "\t12. Ask the user for a number and use a loop to check if it is a palindrome number"
      ],
      "metadata": {
        "id": "Jj1FtM1v7UDM"
      }
    },
    {
      "cell_type": "code",
      "source": [
        "num = int(input(\"Enter a number: \"))\n",
        "original = num\n",
        "reverse = 0\n",
        "\n",
        "while (num > 0):\n",
        "    digit = num % 10           # get last digit\n",
        "    reverse = reverse * 10 + digit  # build reversed number\n",
        "    num = num // 10            # remove last digit\n",
        "\n",
        "# check palindrome\n",
        "if original == reverse:\n",
        "    print(original, \"is a Palindrome number.\")\n",
        "else:\n",
        "    print(original, \"is NOT a Palindrome number.\")\n"
      ],
      "metadata": {
        "colab": {
          "base_uri": "https://localhost:8080/"
        },
        "id": "giq38RgI7f6g",
        "outputId": "3f1190ca-7c87-4259-db1a-5c61ed91fd29"
      },
      "execution_count": null,
      "outputs": [
        {
          "output_type": "stream",
          "name": "stdout",
          "text": [
            "Enter a number: 343\n",
            "343 is a Palindrome number.\n"
          ]
        }
      ]
    },
    {
      "cell_type": "markdown",
      "source": [
        "# Print the Fibonacci sequence up to 10 terms using a loop."
      ],
      "metadata": {
        "id": "MIILTfV38Dr2"
      }
    },
    {
      "cell_type": "code",
      "source": [
        "#in Fiboacci Each number (after the first two) is the sum of the two numbers before it.\n",
        "\n",
        "n = 10   # number of terms\n",
        "a, b = 0, 1\n",
        "\n",
        "print(\"Fibonacci sequence up to 10 terms:\")\n",
        "\n",
        "for i in range(n):\n",
        "    print(a, end=\" \")\n",
        "    a, b = b, a + b   # update values\n"
      ],
      "metadata": {
        "colab": {
          "base_uri": "https://localhost:8080/"
        },
        "id": "qyBTfbod8H_R",
        "outputId": "4ac00ecc-15e6-424c-d73c-7e1fc33cd344"
      },
      "execution_count": null,
      "outputs": [
        {
          "output_type": "stream",
          "name": "stdout",
          "text": [
            "Fibonacci sequence up to 10 terms:\n",
            "0 1 1 2 3 5 8 13 21 34 "
          ]
        }
      ]
    },
    {
      "cell_type": "markdown",
      "source": [
        "Count how many digits are in an integer entered by the user using a `while` loop"
      ],
      "metadata": {
        "id": "vLgivFuj85el"
      }
    },
    {
      "cell_type": "code",
      "source": [
        "num = int(input(\"Enter an integer: \"))\n",
        "count = 0\n",
        "\n",
        "# handle 0 separately (since logics below won't work for 0)\n",
        "if num == 0:\n",
        "    count = 1\n",
        "else:\n",
        "    if num < 0:   # if number is negative, make it positive\n",
        "        num = -num\n",
        "\n",
        "    while num > 0:\n",
        "        num //= 10     # remove last digit\n",
        "        count += 1\n",
        "\n",
        "print(\"Number of digits:\", count)\n"
      ],
      "metadata": {
        "colab": {
          "base_uri": "https://localhost:8080/"
        },
        "id": "OYovKOLn9Cly",
        "outputId": "45bd9970-ae37-4cb0-cb9a-2ab7225ef1b8"
      },
      "execution_count": null,
      "outputs": [
        {
          "output_type": "stream",
          "name": "stdout",
          "text": [
            "Enter an integer: -9876\n",
            "Number of digits: 4\n"
          ]
        }
      ]
    },
    {
      "cell_type": "markdown",
      "source": [
        "Print a pattern of numbers in triangle form:  \n",
        "\n",
        "   1  \n",
        "\n",
        "   2 3  \n",
        "\n",
        "   4 5 6  \n",
        "   \n",
        "   7 8 9 10\n"
      ],
      "metadata": {
        "id": "zEG7Z-AT9uxm"
      }
    },
    {
      "cell_type": "code",
      "source": [
        "num = 1  # starting number\n",
        "\n",
        "for i in range(1, 5):\n",
        "    for j in range(i):\n",
        "        print(num, end=\" \")\n",
        "        num += 1\n",
        "    print()"
      ],
      "metadata": {
        "colab": {
          "base_uri": "https://localhost:8080/"
        },
        "id": "PdeFSMTN92wJ",
        "outputId": "730b7665-84b9-4018-eaa1-6d7979deff81"
      },
      "execution_count": null,
      "outputs": [
        {
          "output_type": "stream",
          "name": "stdout",
          "text": [
            "1 \n",
            "2 3 \n",
            "4 5 6 \n",
            "7 8 9 10 \n"
          ]
        }
      ]
    }
  ]
}