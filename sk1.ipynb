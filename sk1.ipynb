{
  "nbformat": 4,
  "nbformat_minor": 0,
  "metadata": {
    "colab": {
      "provenance": [],
      "authorship_tag": "ABX9TyNBCEaI90R8/vV0j3lOyOE4",
      "include_colab_link": true
    },
    "kernelspec": {
      "name": "python3",
      "display_name": "Python 3"
    },
    "language_info": {
      "name": "python"
    }
  },
  "cells": [
    {
      "cell_type": "markdown",
      "metadata": {
        "id": "view-in-github",
        "colab_type": "text"
      },
      "source": [
        "<a href=\"https://colab.research.google.com/github/Shaista-sk/Python-Practice/blob/main/sk1.ipynb\" target=\"_parent\"><img src=\"https://colab.research.google.com/assets/colab-badge.svg\" alt=\"Open In Colab\"/></a>"
      ]
    },
    {
      "cell_type": "markdown",
      "source": [
        "# **1. What is Python and what are its key features?**"
      ],
      "metadata": {
        "id": "ZKQ9igJE4bdl"
      }
    },
    {
      "cell_type": "markdown",
      "source": [
        "\n",
        "\n",
        "1.   Python is a high-level, interpreted, and easy-to-learn programming language.\n",
        "\n",
        "2.  It is dynamically typed, cross-platform, and supports multiple programming styles (OOP, functional, procedural).\n",
        "\n",
        "3.   Python has a large standard library and is widely used in web development, data science, AI, and automation.\n",
        "\n",
        "\n",
        "\n",
        "\n",
        "\n",
        "\n",
        "\n"
      ],
      "metadata": {
        "id": "H3gb-VXe4gSV"
      }
    },
    {
      "cell_type": "markdown",
      "source": [
        "# **2. Write a Python program to print your full name on the screen**."
      ],
      "metadata": {
        "id": "y2pNvJQ65bcw"
      }
    },
    {
      "cell_type": "code",
      "source": [
        "print(\"Shaista Kanwal\")"
      ],
      "metadata": {
        "colab": {
          "base_uri": "https://localhost:8080/"
        },
        "id": "BuJxUaPY5fg6",
        "outputId": "9055e1f2-d212-41f0-d775-002bde31b32d"
      },
      "execution_count": null,
      "outputs": [
        {
          "output_type": "stream",
          "name": "stdout",
          "text": [
            "Shaista Kanwal\n"
          ]
        }
      ]
    },
    {
      "cell_type": "markdown",
      "source": [
        "# **3. What is the syntax of the print() function in Python?**"
      ],
      "metadata": {
        "id": "1QBmL2vA6N0L"
      }
    },
    {
      "cell_type": "markdown",
      "source": [
        "The syntax of the print() function in Python is:"
      ],
      "metadata": {
        "id": "jWygxjDb7GHy"
      }
    },
    {
      "cell_type": "code",
      "source": [
        "print(object(s), sep=' ', end='\\n', file=sys.stdout, flush=False)"
      ],
      "metadata": {
        "id": "B2znTlw17HJY"
      },
      "execution_count": null,
      "outputs": []
    },
    {
      "cell_type": "markdown",
      "source": [
        "\n",
        "objects >> values to print\n",
        "\n",
        "sep >> separator (default space)\n",
        "\n",
        "end >> what ends the line (default newline)\n",
        "\n",
        "file >> output destination (default screen)\n",
        "\n",
        "flush >> force output immediately (True/False)\n",
        "\n",
        "\n"
      ],
      "metadata": {
        "id": "w7qjZRKG7TqF"
      }
    },
    {
      "cell_type": "markdown",
      "source": [
        "# **4. How do you print multiple values in a single print() call?**"
      ],
      "metadata": {
        "id": "Cmy9qHPc78lw"
      }
    },
    {
      "cell_type": "markdown",
      "source": [
        "We can print multiple values in single print() call by separating with comas"
      ],
      "metadata": {
        "id": "h4yKMERp7_x1"
      }
    },
    {
      "cell_type": "code",
      "source": [
        "print(\"My name is\", \"Shaista\", \"Kanwal\")\n"
      ],
      "metadata": {
        "colab": {
          "base_uri": "https://localhost:8080/"
        },
        "id": "By91ANbD8V2T",
        "outputId": "42ca9420-c672-4220-e799-2299f78088e2"
      },
      "execution_count": null,
      "outputs": [
        {
          "output_type": "stream",
          "name": "stdout",
          "text": [
            "My name is Shaista Kanwal\n"
          ]
        }
      ]
    },
    {
      "cell_type": "markdown",
      "source": [
        "# **5. What is a comment in Python and how is it used?**"
      ],
      "metadata": {
        "id": "rU3DPETv8acq"
      }
    },
    {
      "cell_type": "markdown",
      "source": [
        "A comment is a line in the code that is ignored by Python. It is used to explain the code and make it easier to understand.\n",
        "\n",
        "Comments are only for humans (programmers), not for the computer."
      ],
      "metadata": {
        "id": "fX998EML8nbO"
      }
    },
    {
      "cell_type": "markdown",
      "source": [
        "# **6. What’s the difference between single-line and multi-line comments in Python?**"
      ],
      "metadata": {
        "id": "ZxL1gruX80sM"
      }
    },
    {
      "cell_type": "markdown",
      "source": [
        "Single line comment Starts with # and is used for short explanations on one line."
      ],
      "metadata": {
        "id": "qjpy03z185RD"
      }
    },
    {
      "cell_type": "code",
      "source": [
        "# This is a single-line comment\n"
      ],
      "metadata": {
        "id": "T7Nh9qom9S3q"
      },
      "execution_count": null,
      "outputs": []
    },
    {
      "cell_type": "markdown",
      "source": [
        "Multiline comment  Written inside triple quotes (''' ... ''' or \"\"\" ... \"\"\")\n",
        "and used for longer explanations across multiple lines."
      ],
      "metadata": {
        "id": "VMNtn4oF9Vpx"
      }
    },
    {
      "cell_type": "code",
      "source": [
        "\"\"\"\n",
        "This is a\n",
        "multi-line comment\n",
        "\"\"\"\n"
      ],
      "metadata": {
        "id": "nbk7EKbi9YYS"
      },
      "execution_count": null,
      "outputs": []
    },
    {
      "cell_type": "markdown",
      "source": [
        "# **7. Add a comment in Python explaining the purpose of a program**"
      ],
      "metadata": {
        "id": "2yXWUoUl9_n4"
      }
    },
    {
      "cell_type": "code",
      "source": [
        "# This program prints my full name on the screen\n",
        "\n",
        "print(\"Shaista Kanwal\")\n"
      ],
      "metadata": {
        "colab": {
          "base_uri": "https://localhost:8080/"
        },
        "id": "UzcJpglw-_d6",
        "outputId": "f01b3508-c84e-4b9c-b44a-d1b143ab25c3"
      },
      "execution_count": null,
      "outputs": [
        {
          "output_type": "stream",
          "name": "stdout",
          "text": [
            "Shaista Kanwal\n"
          ]
        }
      ]
    },
    {
      "cell_type": "markdown",
      "source": [
        "# **8.What are escape characters in Python? Give examples.**\n",
        "\n",
        "\n",
        "\n",
        "\n",
        "\n",
        "\n",
        "\n"
      ],
      "metadata": {
        "id": "Wr9WWZru_D8g"
      }
    },
    {
      "cell_type": "markdown",
      "source": [
        "Escape characters are special characters used inside strings to represent things that are hard to type directly.\n",
        "\n",
        "They start with a backslash \\."
      ],
      "metadata": {
        "id": "NUzCBvNU_J3Z"
      }
    },
    {
      "cell_type": "markdown",
      "source": [
        "\n",
        "\n",
        "Common Examples:\n",
        "\n",
        "\\n >> New line\n",
        "\n",
        "\\t >> Tab (space)\n",
        "\n",
        "(\\\\')>> Single quote inside a string\n",
        "\n",
        "\\\\\" >> Double quote inside a string\n",
        "\n",
        "\\\\\\ >> Backslash itself\n",
        "\n"
      ],
      "metadata": {
        "id": "6allYoQQ_3c_"
      }
    },
    {
      "cell_type": "markdown",
      "source": [
        "# **9. Print the sentence: He said, \"Python is great!\" using escape characters.**"
      ],
      "metadata": {
        "id": "SX0td6I6ADuy"
      }
    },
    {
      "cell_type": "code",
      "source": [
        "print(\"He said, \\\"Python is great!\\\"\")\n"
      ],
      "metadata": {
        "colab": {
          "base_uri": "https://localhost:8080/"
        },
        "id": "6f3CFAJdASCV",
        "outputId": "bdf1b0b5-e88d-4bce-bd10-847d0fa0dcb3"
      },
      "execution_count": null,
      "outputs": [
        {
          "output_type": "stream",
          "name": "stdout",
          "text": [
            "He said, \"Python is great!\"\n"
          ]
        }
      ]
    },
    {
      "cell_type": "markdown",
      "source": [
        "# **10. Print the following using escape characters:**\n",
        "Hello   \n",
        "\n",
        "World!"
      ],
      "metadata": {
        "id": "nqFIw_WLBccu"
      }
    },
    {
      "cell_type": "code",
      "source": [
        "print(\"Hello\\nWorld!\")\n"
      ],
      "metadata": {
        "colab": {
          "base_uri": "https://localhost:8080/"
        },
        "id": "djP3pgsHBqpk",
        "outputId": "3b9737a8-e9ad-4974-ddfb-320e381f29fd"
      },
      "execution_count": null,
      "outputs": [
        {
          "output_type": "stream",
          "name": "stdout",
          "text": [
            "Hello\n",
            "World!\n"
          ]
        }
      ]
    },
    {
      "cell_type": "markdown",
      "source": [
        "# 11. Print a tabbed table using \\t like:\n",
        "\n"
      ],
      "metadata": {
        "id": "_RL5htQ8CDZb"
      }
    },
    {
      "cell_type": "code",
      "source": [
        "print(\"Name\\tAge\\tCity\")\n",
        "print(\"Ali\\t25\\tLahore\")\n"
      ],
      "metadata": {
        "colab": {
          "base_uri": "https://localhost:8080/"
        },
        "id": "oxwu57W3DA2r",
        "outputId": "04ac5f1f-5b05-42d3-fe1c-04677b9d418d"
      },
      "execution_count": null,
      "outputs": [
        {
          "output_type": "stream",
          "name": "stdout",
          "text": [
            "Name\tAge\tCity\n",
            "Ali\t25\tLahore\n"
          ]
        }
      ]
    },
    {
      "cell_type": "markdown",
      "source": [
        "# 12. What does \\n do in a print() statement?"
      ],
      "metadata": {
        "id": "ssA6_SjGDR-Y"
      }
    },
    {
      "cell_type": "markdown",
      "source": [
        "\\n is an escape character in Python that creates a new line.\n",
        "\n",
        "It tells print() to move the cursor to the next line."
      ],
      "metadata": {
        "id": "8NP2CfYdDaVI"
      }
    },
    {
      "cell_type": "markdown",
      "source": [
        "# 13. How do you include a backslash \\ in your output using print()?"
      ],
      "metadata": {
        "id": "s281eZXGDsMw"
      }
    },
    {
      "cell_type": "markdown",
      "source": [
        "To include a backslash \\ in the output, we need to escape it with another backslash \\\\."
      ],
      "metadata": {
        "id": "d1b3E-tFD-BA"
      }
    },
    {
      "cell_type": "code",
      "source": [
        "print(\"This is a backslash: \\\\\")\n"
      ],
      "metadata": {
        "colab": {
          "base_uri": "https://localhost:8080/"
        },
        "id": "h4nDmd5EEGDA",
        "outputId": "73f82428-889b-4a0c-fef0-d468fa9dcdd6"
      },
      "execution_count": null,
      "outputs": [
        {
          "output_type": "stream",
          "name": "stdout",
          "text": [
            "This is a backslash: \\\n"
          ]
        }
      ]
    },
    {
      "cell_type": "markdown",
      "source": [
        "# 14. What happens if you forget to close a string with a quote?"
      ],
      "metadata": {
        "id": "aS8AWfXQEXGG"
      }
    },
    {
      "cell_type": "markdown",
      "source": [
        "If we forget to close a string with a quote in Python, we will get a SyntaxError because Python doesn’t know where the string ends."
      ],
      "metadata": {
        "id": "tKWnUZ_yEgRB"
      }
    },
    {
      "cell_type": "code",
      "source": [
        "print(\"Hello World)\n"
      ],
      "metadata": {
        "colab": {
          "base_uri": "https://localhost:8080/",
          "height": 106
        },
        "id": "mVay2-3mElcS",
        "outputId": "24b30bb9-b58d-4947-e56b-1df71c0da89d"
      },
      "execution_count": null,
      "outputs": [
        {
          "output_type": "error",
          "ename": "SyntaxError",
          "evalue": "unterminated string literal (detected at line 1) (ipython-input-3361149612.py, line 1)",
          "traceback": [
            "\u001b[0;36m  File \u001b[0;32m\"/tmp/ipython-input-3361149612.py\"\u001b[0;36m, line \u001b[0;32m1\u001b[0m\n\u001b[0;31m    print(\"Hello World)\u001b[0m\n\u001b[0m          ^\u001b[0m\n\u001b[0;31mSyntaxError\u001b[0m\u001b[0;31m:\u001b[0m unterminated string literal (detected at line 1)\n"
          ]
        }
      ]
    },
    {
      "cell_type": "markdown",
      "source": [
        "# 15. Write a single-line Python program that prints:\n",
        "# **This is Python! on the first line and Let's code. on the second line using \\n.**"
      ],
      "metadata": {
        "id": "MnZFjjwbErxH"
      }
    },
    {
      "cell_type": "code",
      "source": [
        "print(\"This is Python! \\nLet's code\")"
      ],
      "metadata": {
        "colab": {
          "base_uri": "https://localhost:8080/"
        },
        "id": "RYbXGiIEEzZ9",
        "outputId": "0b8b4c64-e03f-4cab-e898-53392efe116e"
      },
      "execution_count": null,
      "outputs": [
        {
          "output_type": "stream",
          "name": "stdout",
          "text": [
            "This is Python! \n",
            "Let's code\n"
          ]
        }
      ]
    }
  ]
}