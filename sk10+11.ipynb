{
  "nbformat": 4,
  "nbformat_minor": 0,
  "metadata": {
    "colab": {
      "provenance": [],
      "authorship_tag": "ABX9TyMgJ5ZV4v9zRw63CAfwSIjv",
      "include_colab_link": true
    },
    "kernelspec": {
      "name": "python3",
      "display_name": "Python 3"
    },
    "language_info": {
      "name": "python"
    }
  },
  "cells": [
    {
      "cell_type": "markdown",
      "metadata": {
        "id": "view-in-github",
        "colab_type": "text"
      },
      "source": [
        "<a href=\"https://colab.research.google.com/github/Shaista-sk/Python-Practice/blob/main/sk10%2B11.ipynb\" target=\"_parent\"><img src=\"https://colab.research.google.com/assets/colab-badge.svg\" alt=\"Open In Colab\"/></a>"
      ]
    },
    {
      "cell_type": "markdown",
      "source": [
        "# **Topic: File Handling**"
      ],
      "metadata": {
        "id": "O_4zY_e8jc2X"
      }
    },
    {
      "cell_type": "code",
      "source": [
        "#Write a Python program to create a new file and write some text into it.\n",
        "file = open(\"myfile.txt\", \"w\")\n",
        "file.write(\"Hello! This is my first file handling program in Python.\\n\\n\")\n",
        "file.write(\"I am learning step by step.\\n\")\n",
        "file.write(\"File handling is very easy!\")\n",
        "file.close()\n",
        "print(\"File created and text written successfully.\")"
      ],
      "metadata": {
        "colab": {
          "base_uri": "https://localhost:8080/"
        },
        "id": "1uGiKTHBjfMF",
        "outputId": "7853d5ee-bd2f-425e-8779-f751a420ac74"
      },
      "execution_count": null,
      "outputs": [
        {
          "output_type": "stream",
          "name": "stdout",
          "text": [
            "File created and text written successfully.\n"
          ]
        }
      ]
    },
    {
      "cell_type": "code",
      "source": [
        "#Write a program to read the contents of a text file and display them.\n",
        "file = open(\"myfile.txt\", \"r\")\n",
        "print(\"File Contents:\\n\")\n",
        "contents=file.read()\n",
        "print(contents)\n",
        "file.close()"
      ],
      "metadata": {
        "colab": {
          "base_uri": "https://localhost:8080/"
        },
        "id": "DhmUc29hlIgW",
        "outputId": "1e764919-ee5d-4b5d-b312-24165dc56174"
      },
      "execution_count": null,
      "outputs": [
        {
          "output_type": "stream",
          "name": "stdout",
          "text": [
            "File Contents:\n",
            "\n",
            "Hello! This is my first file handling program in Python.\n",
            "\n",
            "I am learning step by step.\n",
            "File handling is very easy!\n"
          ]
        }
      ]
    },
    {
      "cell_type": "code",
      "source": [
        "#Write a program to append a line to an existing file\n",
        "file = open(\"myfile.txt\", \"a\")\n",
        "file.write(\"\\nThis line is newly appended to the file.\")\n",
        "file.close()"
      ],
      "metadata": {
        "id": "xQlYk8qdlpGS"
      },
      "execution_count": null,
      "outputs": []
    },
    {
      "cell_type": "code",
      "source": [
        "#. Create a program to count the number of words in a text file.\n",
        "with open(\"myfile.txt\", \"r\") as file:\n",
        " contents = file.read()\n",
        "words = contents.split()\n",
        "word_count = len(words)\n",
        "print(\"Total number of words in the file:\", word_count)"
      ],
      "metadata": {
        "colab": {
          "base_uri": "https://localhost:8080/"
        },
        "id": "9Lu7XioYl9J4",
        "outputId": "34fd2160-95ab-4f21-bb91-e768aabf612c"
      },
      "execution_count": null,
      "outputs": [
        {
          "output_type": "stream",
          "name": "stdout",
          "text": [
            "Total number of words in the file: 29\n"
          ]
        }
      ]
    },
    {
      "cell_type": "code",
      "source": [
        "#Write a program that reads a file and counts the number of lines in it.\n",
        "with open(\"myfile.txt\", \"r\") as file:\n",
        "  lines = file.readlines()\n",
        "line_count = len(lines)\n",
        "print(\"Total number of lines in the file:\", line_count)\n"
      ],
      "metadata": {
        "colab": {
          "base_uri": "https://localhost:8080/"
        },
        "id": "dQyhX-qPmqkx",
        "outputId": "8415df2e-ea75-40cc-91e9-0807ed872c91"
      },
      "execution_count": null,
      "outputs": [
        {
          "output_type": "stream",
          "name": "stdout",
          "text": [
            "Total number of lines in the file: 5\n"
          ]
        }
      ]
    },
    {
      "cell_type": "code",
      "source": [
        "#. Write a program to copy the contents of one file to another.\n",
        "with open(\"myfile.txt\", \"r\") as source:\n",
        "    contents = source.read()\n",
        "with open(\"copyfile.txt\", \"w\") as destination:\n",
        "    destination.write(contents)\n",
        "print(\"File copied successfully!\")"
      ],
      "metadata": {
        "colab": {
          "base_uri": "https://localhost:8080/"
        },
        "id": "XBQ4USlInMdz",
        "outputId": "80945780-3735-429f-e7e1-1e19b2035d46"
      },
      "execution_count": null,
      "outputs": [
        {
          "output_type": "stream",
          "name": "stdout",
          "text": [
            "File copied successfully!\n"
          ]
        }
      ]
    },
    {
      "cell_type": "code",
      "source": [
        "#Write a program to read a file line by line and print each line.\n",
        "with open(\"myfile.txt\", \"r\") as file:\n",
        "  for line in file:\n",
        "        print(line, end=\"\")"
      ],
      "metadata": {
        "colab": {
          "base_uri": "https://localhost:8080/"
        },
        "id": "7KgSPs8_nx9h",
        "outputId": "acd26333-cbd5-491d-c915-20c8d52e7d29"
      },
      "execution_count": null,
      "outputs": [
        {
          "output_type": "stream",
          "name": "stdout",
          "text": [
            "Hello! This is my first file handling program in Python.\n",
            "\n",
            "I am learning step by step.\n",
            "File handling is very easy!\n",
            "This line is newly appended to the file."
          ]
        }
      ]
    },
    {
      "cell_type": "code",
      "source": [
        "#. Write a Python program to reverse the contents of a file.\n",
        "with open(\"myfile.txt\", \"r\") as file:\n",
        "    contents = file.read()\n",
        "reversed_contents = contents[::-1]\n",
        "with open(\"reversed.txt\", \"w\") as file:\n",
        "    file.write(reversed_contents)\n",
        "\n",
        "print(\"File contents reversed successfully!\")"
      ],
      "metadata": {
        "colab": {
          "base_uri": "https://localhost:8080/"
        },
        "id": "VBUC7GCRoIx8",
        "outputId": "c9e3c40f-13f7-4826-b466-89066398332c"
      },
      "execution_count": null,
      "outputs": [
        {
          "output_type": "stream",
          "name": "stdout",
          "text": [
            "File contents reversed successfully!\n"
          ]
        }
      ]
    },
    {
      "cell_type": "code",
      "source": [
        "#Write a program to read a CSV file and display its content.\n",
        "import csv\n",
        "\n",
        "with open(\"data.csv\", \"r\") as file:\n",
        "    reader = csv.reader(file)\n",
        "# Loop through each row\n",
        "    for row in reader:\n",
        "        print(row)"
      ],
      "metadata": {
        "colab": {
          "base_uri": "https://localhost:8080/",
          "height": 211
        },
        "id": "MYlY9ioko2S3",
        "outputId": "9401c30b-b20c-4625-a540-6017a2199b21"
      },
      "execution_count": null,
      "outputs": [
        {
          "output_type": "error",
          "ename": "FileNotFoundError",
          "evalue": "[Errno 2] No such file or directory: 'data.csv'",
          "traceback": [
            "\u001b[0;31m---------------------------------------------------------------------------\u001b[0m",
            "\u001b[0;31mFileNotFoundError\u001b[0m                         Traceback (most recent call last)",
            "\u001b[0;32m/tmp/ipython-input-251955284.py\u001b[0m in \u001b[0;36m<cell line: 0>\u001b[0;34m()\u001b[0m\n\u001b[1;32m      2\u001b[0m \u001b[0;32mimport\u001b[0m \u001b[0mcsv\u001b[0m\u001b[0;34m\u001b[0m\u001b[0;34m\u001b[0m\u001b[0m\n\u001b[1;32m      3\u001b[0m \u001b[0;34m\u001b[0m\u001b[0m\n\u001b[0;32m----> 4\u001b[0;31m \u001b[0;32mwith\u001b[0m \u001b[0mopen\u001b[0m\u001b[0;34m(\u001b[0m\u001b[0;34m\"data.csv\"\u001b[0m\u001b[0;34m,\u001b[0m \u001b[0;34m\"r\"\u001b[0m\u001b[0;34m)\u001b[0m \u001b[0;32mas\u001b[0m \u001b[0mfile\u001b[0m\u001b[0;34m:\u001b[0m\u001b[0;34m\u001b[0m\u001b[0;34m\u001b[0m\u001b[0m\n\u001b[0m\u001b[1;32m      5\u001b[0m     \u001b[0mreader\u001b[0m \u001b[0;34m=\u001b[0m \u001b[0mcsv\u001b[0m\u001b[0;34m.\u001b[0m\u001b[0mreader\u001b[0m\u001b[0;34m(\u001b[0m\u001b[0mfile\u001b[0m\u001b[0;34m)\u001b[0m\u001b[0;34m\u001b[0m\u001b[0;34m\u001b[0m\u001b[0m\n\u001b[1;32m      6\u001b[0m \u001b[0;31m# Loop through each row\u001b[0m\u001b[0;34m\u001b[0m\u001b[0;34m\u001b[0m\u001b[0m\n",
            "\u001b[0;31mFileNotFoundError\u001b[0m: [Errno 2] No such file or directory: 'data.csv'"
          ]
        }
      ]
    },
    {
      "cell_type": "code",
      "source": [
        "#Write a program to merge the contents of two files into a third file.\n",
        "with open(\"myfile.txt\", \"r\") as f1:\n",
        "    data1 = f1.read()\n",
        "with open(\"reversed.txt\", \"r\") as f2:\n",
        "    data2 = f2.read()\n",
        "\n",
        "with open(\"merged.txt\", \"w\") as f3:\n",
        "    f3.write(data1 + \"\\n\" + data2)\n",
        "\n",
        "print(\"Files merged successfully into 'merged.txt'\")"
      ],
      "metadata": {
        "id": "xc-AW1jhqv9d"
      },
      "execution_count": null,
      "outputs": []
    },
    {
      "cell_type": "code",
      "source": [
        "#Create a program that removes all blank lines from a text file.\n",
        "with open(\"myfile.txt\", \"r\") as file:\n",
        "    lines = file.readlines()\n",
        "non_empty_lines = [line for line in lines if line.strip() != \"\"]\n",
        "with open(\"cleaned.txt\", \"w\") as file:\n",
        "    file.writelines(non_empty_lines)\n",
        "\n",
        "print(\"Blank lines removed successfully! New file: cleaned.txt\")"
      ],
      "metadata": {
        "colab": {
          "base_uri": "https://localhost:8080/"
        },
        "id": "-4guQPAfrmja",
        "outputId": "6794c59e-83fd-4861-962f-4f6ec8844247"
      },
      "execution_count": null,
      "outputs": [
        {
          "output_type": "stream",
          "name": "stdout",
          "text": [
            "Blank lines removed successfully! New file: cleaned.txt\n"
          ]
        }
      ]
    },
    {
      "cell_type": "code",
      "source": [
        "#Write a program to find and replace a word in a text file.\n",
        "with open(\"myfile.txt\", \"r\") as file:\n",
        "    contents = file.read()\n",
        "new_contents = contents.replace(\"Python\", \"Java\")\n",
        "with open(\"myfile.txt\", \"w\") as file:\n",
        "    file.write(new_contents)\n",
        "\n",
        "print(\"Word replaced successfully!\")"
      ],
      "metadata": {
        "colab": {
          "base_uri": "https://localhost:8080/"
        },
        "id": "19f0xhIDsYDB",
        "outputId": "8beb834e-6aef-4541-f531-4a7f74e127df"
      },
      "execution_count": null,
      "outputs": [
        {
          "output_type": "stream",
          "name": "stdout",
          "text": [
            "Word replaced successfully!\n"
          ]
        }
      ]
    },
    {
      "cell_type": "code",
      "source": [
        "#Write a Python script to read the last n lines of a file.\n",
        "def read_last_n_lines(filename, n):\n",
        "    with open(filename, \"r\") as file:\n",
        "        lines = file.readlines()\n",
        "\n",
        "    last_lines = lines[-n:]\n",
        "    for line in last_lines:\n",
        "            print(line, end=\"\")\n",
        "\n",
        "read_last_n_lines(\"myfile.txt\", 3)"
      ],
      "metadata": {
        "colab": {
          "base_uri": "https://localhost:8080/"
        },
        "id": "OGj4Nok-tBQF",
        "outputId": "002d4eef-c50c-4b6c-c40a-030906366c85"
      },
      "execution_count": null,
      "outputs": [
        {
          "output_type": "stream",
          "name": "stdout",
          "text": [
            "I am learning step by step.\n",
            "File handling is very easy!\n",
            "This line is newly appended to the file."
          ]
        }
      ]
    },
    {
      "cell_type": "code",
      "source": [
        "#Create a program that saves user input to a file until the user types \"exit\".\n",
        "with open(\"user_input.txt\", \"w\") as file:\n",
        "    while True:\n",
        "        text = input(\"Enter text (type 'exit' to quit): \")\n",
        "        if text.lower() == \"exit\":\n",
        "          break\n",
        "        file.write(text + \"\\n\")\n",
        "\n",
        "print(\"All inputs saved to 'user_input.txt'\")"
      ],
      "metadata": {
        "colab": {
          "base_uri": "https://localhost:8080/"
        },
        "id": "_2JGBxoytxEa",
        "outputId": "070010b5-676c-4be0-e280-f69d89e0b1e1"
      },
      "execution_count": null,
      "outputs": [
        {
          "output_type": "stream",
          "name": "stdout",
          "text": [
            "Enter text (type 'exit' to quit): hello\n",
            "Enter text (type 'exit' to quit): exit\n",
            "All inputs saved to 'user_input.txt'\n"
          ]
        }
      ]
    },
    {
      "cell_type": "code",
      "source": [
        "#Write a program to check if a file exists and print its size in bytes.\n",
        "import os\n",
        "filename = \"myfile.txt\"\n",
        "if os.path.exists(filename):\n",
        "    size = os.path.getsize(filename)  # file size in bytes\n",
        "    print(f\"The file '{filename}' exists.\")\n",
        "    print(f\"Size: {size} bytes\")\n",
        "else:\n",
        "    print(f\"The file '{filename}' does not exist.\")"
      ],
      "metadata": {
        "colab": {
          "base_uri": "https://localhost:8080/"
        },
        "id": "iJ6HEjJquiJ3",
        "outputId": "a2e385f6-46e0-465b-b40e-fdd7fb6ed2cc"
      },
      "execution_count": null,
      "outputs": [
        {
          "output_type": "stream",
          "name": "stdout",
          "text": [
            "The file 'myfile.txt' exists.\n",
            "Size: 152 bytes\n"
          ]
        }
      ]
    },
    {
      "cell_type": "markdown",
      "source": [
        "# Day 11 | File Tasks & String Practices  \n",
        "\n",
        "# **Topic: Line Count, Word Count, Search & Replace in Python**\n"
      ],
      "metadata": {
        "id": "euTZCkGYp4ec"
      }
    },
    {
      "cell_type": "code",
      "source": [
        "#Write a Python program to count the number of lines in a text file.\n",
        "with open(\"myfile.txt\", \"r\") as file:\n",
        "    lines = file.readlines()\n",
        "print(\"Number of lines in the file:\", len(lines))"
      ],
      "metadata": {
        "colab": {
          "base_uri": "https://localhost:8080/"
        },
        "id": "G02daQBOp_g-",
        "outputId": "ead13729-0261-4364-d6c5-fb04277de372"
      },
      "execution_count": null,
      "outputs": [
        {
          "output_type": "stream",
          "name": "stdout",
          "text": [
            "Number of lines in the file: 5\n"
          ]
        }
      ]
    },
    {
      "cell_type": "code",
      "source": [
        "#Write a program to count the total number of words in a given text file.\n",
        "with open(\"myfile.txt\", \"r\") as file:\n",
        "    text = file.read()\n",
        "    words = text.split()\n",
        "print(\"Total number of words in the file:\", len(words))"
      ],
      "metadata": {
        "colab": {
          "base_uri": "https://localhost:8080/"
        },
        "id": "lwVsO0JOqYmM",
        "outputId": "4adc2447-c243-4bb5-e986-70327d50d139"
      },
      "execution_count": null,
      "outputs": [
        {
          "output_type": "stream",
          "name": "stdout",
          "text": [
            "Total number of words in the file: 29\n"
          ]
        }
      ]
    },
    {
      "cell_type": "code",
      "source": [
        "#Write a program that counts the number of characters (including spaces) in a file.\n",
        "with open(\"myfile.txt\", \"r\") as file:\n",
        "    text = file.read()\n",
        "print(\"Total number of characters in the file:\", len(text))"
      ],
      "metadata": {
        "colab": {
          "base_uri": "https://localhost:8080/"
        },
        "id": "c5AbQAilqspD",
        "outputId": "90b2e9c5-0839-40f2-a299-80314781e354"
      },
      "execution_count": null,
      "outputs": [
        {
          "output_type": "stream",
          "name": "stdout",
          "text": [
            "Total number of characters in the file: 152\n"
          ]
        }
      ]
    },
    {
      "cell_type": "code",
      "source": [
        "#Write a Python script to search for a specific word in a text file and display the lines where it appears.\n",
        "word_to_search = \"File handling\"\n",
        "with open(\"myfile.txt\", \"r\") as file:\n",
        "    lines = file.readlines()\n",
        "found = False\n",
        "for line_number, line in enumerate(lines, start=1):\n",
        "    if word_to_search in line:\n",
        "        print(f\"Found in line {line_number}: {line.strip()}\")\n",
        "        found = True\n",
        "\n",
        "if not found:\n",
        "    print(f\"'{word_to_search}' not found in the file.\")"
      ],
      "metadata": {
        "colab": {
          "base_uri": "https://localhost:8080/"
        },
        "id": "IvTjkSINrTKg",
        "outputId": "50eda8d1-c806-44ff-ac6e-e984e9d69415"
      },
      "execution_count": null,
      "outputs": [
        {
          "output_type": "stream",
          "name": "stdout",
          "text": [
            "Found in line 4: File handling is very easy!\n"
          ]
        }
      ]
    },
    {
      "cell_type": "code",
      "source": [
        "#Write a program to read a file and print the frequency of each word (word count).\n",
        "from collections import Counter\n",
        "with open(\"myfile.txt\", \"r\") as file:\n",
        "    text = file.read()\n",
        "\n",
        "words = text.split()\n",
        "word_freq = Counter(words)\n",
        "for word, count in word_freq.items():\n",
        "    print(f\"{word}: {count}\")"
      ],
      "metadata": {
        "colab": {
          "base_uri": "https://localhost:8080/"
        },
        "id": "vXSONg6osEv6",
        "outputId": "10b27200-371b-4e06-8a61-17f99edcc62c"
      },
      "execution_count": null,
      "outputs": [
        {
          "output_type": "stream",
          "name": "stdout",
          "text": [
            "Hello!: 1\n",
            "This: 2\n",
            "is: 3\n",
            "my: 1\n",
            "first: 1\n",
            "file: 1\n",
            "handling: 2\n",
            "program: 1\n",
            "in: 1\n",
            "Java.: 1\n",
            "I: 1\n",
            "am: 1\n",
            "learning: 1\n",
            "step: 1\n",
            "by: 1\n",
            "step.: 1\n",
            "File: 1\n",
            "very: 1\n",
            "easy!: 1\n",
            "line: 1\n",
            "newly: 1\n",
            "appended: 1\n",
            "to: 1\n",
            "the: 1\n",
            "file.: 1\n"
          ]
        }
      ]
    },
    {
      "cell_type": "code",
      "source": [
        "#Write a script to read a file and count how many times a specific word appears.\n",
        "word_to_search = \"File\"\n",
        "with open(\"myfile.txt\", \"r\") as file:\n",
        "    text = file.read()\n",
        "words = text.split()\n",
        "count = words.count(word_to_search)\n",
        "\n",
        "print(f\"The word '{word_to_search}' appears {count} times in the file.\")"
      ],
      "metadata": {
        "colab": {
          "base_uri": "https://localhost:8080/"
        },
        "id": "JVcX9xLYtppF",
        "outputId": "a4b37d2e-0909-4afe-9bde-86fc62909e06"
      },
      "execution_count": null,
      "outputs": [
        {
          "output_type": "stream",
          "name": "stdout",
          "text": [
            "The word 'File' appears 1 times in the file.\n"
          ]
        }
      ]
    },
    {
      "cell_type": "code",
      "source": [
        "#Write a program that removes all punctuation from a text file and saves the cleaned version\n",
        "import string\n",
        "with open(\"myfile.txt\", \"r\") as file:\n",
        "    text = file.read()\n",
        "cleaned_text = text.translate(str.maketrans(\"\", \"\", string.punctuation))\n",
        "with open(\"cleaned_sample.txt\", \"w\") as file:\n",
        "    file.write(cleaned_text)\n",
        "\n",
        "print(\"Punctuation removed. Cleaned text saved in 'cleaned_sample.txt'\")"
      ],
      "metadata": {
        "colab": {
          "base_uri": "https://localhost:8080/"
        },
        "id": "C2KO7vdrt9yh",
        "outputId": "d69398a4-ef1b-4ad1-f048-be372276d7dc"
      },
      "execution_count": null,
      "outputs": [
        {
          "output_type": "stream",
          "name": "stdout",
          "text": [
            "Punctuation removed. Cleaned text saved in 'cleaned_sample.txt'\n"
          ]
        }
      ]
    },
    {
      "cell_type": "code",
      "source": [
        "#. Write a Python program to reverse the content of each line in a file.\n",
        "with open(\"myfile.txt\", \"r\") as infile:\n",
        "    lines = infile.readlines()\n",
        "reversed_lines = [line.strip()[::-1] for line in lines]\n",
        "with open(\"reversed_sample.txt\", \"w\") as outfile:\n",
        "    for line in reversed_lines:\n",
        "        outfile.write(line + \"\\n\")\n",
        "\n",
        "print(\"Reversed lines saved in 'reversed_sample.txt'\")\n"
      ],
      "metadata": {
        "colab": {
          "base_uri": "https://localhost:8080/"
        },
        "id": "_MjBn__WunCv",
        "outputId": "2661eded-cb99-4fed-95aa-c3e02ccab32b"
      },
      "execution_count": null,
      "outputs": [
        {
          "output_type": "stream",
          "name": "stdout",
          "text": [
            "Reversed lines saved in 'reversed_sample.txt'\n"
          ]
        }
      ]
    },
    {
      "cell_type": "code",
      "source": [
        "#Write a script that appends a new line to an existing file.\n",
        "new_line = \"This is a new line added to the file.\"\n",
        "with open(\"myfile.txt\", \"a\") as file:\n",
        "    file.write(\"\\n\" + new_line)\n",
        "\n",
        "print(\"New line of assignment 11 appended successfully!\")"
      ],
      "metadata": {
        "colab": {
          "base_uri": "https://localhost:8080/"
        },
        "id": "jAwEVZ80vTze",
        "outputId": "43dfefa8-aef0-40f3-c74c-44c4e33d2bc2"
      },
      "execution_count": null,
      "outputs": [
        {
          "output_type": "stream",
          "name": "stdout",
          "text": [
            "New line of assignment 11 appended successfully!\n"
          ]
        }
      ]
    },
    {
      "cell_type": "code",
      "source": [
        "#. Write a program to find and replace multiple words in a text file using a dictionary.\n",
        "replacements = {\n",
        "    \"Python\": \"Java\",\n",
        "    \"code\": \"program\",\n",
        "    \"file\": \"document\"\n",
        "}\n",
        "with open(\"myfile.txt\", \"r\") as file:\n",
        "    content = file.read()\n",
        "for old_word, new_word in replacements.items():\n",
        "    content = content.replace(old_word, new_word)\n",
        "\n",
        "with open(\"output.txt\", \"w\") as file:\n",
        "    file.write(content)\n",
        "\n",
        "print(\"Words have been replaced successfully!\")"
      ],
      "metadata": {
        "colab": {
          "base_uri": "https://localhost:8080/"
        },
        "id": "-oKMtndMvyfJ",
        "outputId": "1e94a162-3a0a-41e9-a672-9ba83182a730"
      },
      "execution_count": null,
      "outputs": [
        {
          "output_type": "stream",
          "name": "stdout",
          "text": [
            "Words have been replaced successfully!\n"
          ]
        }
      ]
    },
    {
      "cell_type": "code",
      "source": [
        "#. Write a program that reads a file and prints only the unique words used in it.\n",
        "with open(\"myfile.txt\", \"r\") as file:\n",
        "    words = file.read().lower().split()\n",
        "unique_words = set(words)\n",
        "print(unique_words)"
      ],
      "metadata": {
        "colab": {
          "base_uri": "https://localhost:8080/"
        },
        "id": "n7EKSynCwlPy",
        "outputId": "3ae65299-dda9-4eeb-9054-932501c685c1"
      },
      "execution_count": null,
      "outputs": [
        {
          "output_type": "stream",
          "name": "stdout",
          "text": [
            "{'a', 'easy!', 'program', 'am', 'learning', 'first', 'newly', 'code', 'appended', 'in', 'file', 'is', 'handling', 'the', 'i', 'by', 'pyhton', 'java.', 'step', 'this', 'hello!', 'my', 'step.', 'to', 'line', 'new', 'file.', 'added', 'very'}\n"
          ]
        }
      ]
    },
    {
      "cell_type": "code",
      "source": [
        "#. Write a Python script to read a text file and print its content in uppercase.\n",
        "with open(\"myfile.txt\", \"r\") as file:\n",
        "    content = file.read()\n",
        "uppercase_content = content.upper()\n",
        "print(uppercase_content)"
      ],
      "metadata": {
        "colab": {
          "base_uri": "https://localhost:8080/"
        },
        "id": "Z-r_PrPRxPlR",
        "outputId": "6e32c5b4-9e71-4ffe-b178-2c7a07f33ef8"
      },
      "execution_count": null,
      "outputs": [
        {
          "output_type": "stream",
          "name": "stdout",
          "text": [
            "HELLO! THIS IS MY FIRST FILE HANDLING PROGRAM IN JAVA.\n",
            "\n",
            "I AM LEARNING STEP BY STEP.\n",
            "FILE HANDLING IS VERY EASY!\n",
            "THIS LINE IS NEWLY APPENDED TO THE FILE.\n",
            "THIS IS A NEW LINE ADDED TO THE FILE.\n",
            "THIS IS A NEW LINE ADDED TO THE FILE.\n",
            "THIS PYHTON CODE FILE\n"
          ]
        }
      ]
    },
    {
      "cell_type": "code",
      "source": [
        "#Write a program to read a file and remove all duplicate lines.\n",
        "with open(\"myfile.txt\", \"r\") as file:\n",
        "    lines = file.readlines()\n",
        "unique_lines = list(dict.fromkeys(lines))\n",
        "with open(\"output.txt\", \"w\") as file:\n",
        "    file.writelines(unique_lines)\n",
        "\n",
        "print(\"Duplicate lines removed successfully!\")"
      ],
      "metadata": {
        "colab": {
          "base_uri": "https://localhost:8080/"
        },
        "id": "QSfszSqjxlow",
        "outputId": "d882c743-4616-4131-a595-be7035001754"
      },
      "execution_count": null,
      "outputs": [
        {
          "output_type": "stream",
          "name": "stdout",
          "text": [
            "Duplicate lines removed successfully!\n"
          ]
        }
      ]
    }
  ]
}