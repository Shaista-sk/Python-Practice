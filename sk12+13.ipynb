{
  "nbformat": 4,
  "nbformat_minor": 0,
  "metadata": {
    "colab": {
      "provenance": [],
      "authorship_tag": "ABX9TyN9uykk+yfAaVtr3xGePeut",
      "include_colab_link": true
    },
    "kernelspec": {
      "name": "python3",
      "display_name": "Python 3"
    },
    "language_info": {
      "name": "python"
    }
  },
  "cells": [
    {
      "cell_type": "markdown",
      "metadata": {
        "id": "view-in-github",
        "colab_type": "text"
      },
      "source": [
        "<a href=\"https://colab.research.google.com/github/Shaista-sk/Python-Practice/blob/main/sk12%2B13.ipynb\" target=\"_parent\"><img src=\"https://colab.research.google.com/assets/colab-badge.svg\" alt=\"Open In Colab\"/></a>"
      ]
    },
    {
      "cell_type": "markdown",
      "source": [
        "Day 12 | OOP Basics  \n",
        "\n",
        "# *Subtopics: class, object, __init__ method, Introduction to OOPs*\n",
        "\n"
      ],
      "metadata": {
        "id": "LqT4Oj2nJ2bG"
      }
    },
    {
      "cell_type": "code",
      "source": [
        "#Create a class named 'Student' with attributes name and age. Instantiate two objects and print their details.\n",
        "class Student:\n",
        "    def __init__(self, name, age):\n",
        "      self.name = name\n",
        "      self.age = age\n",
        "    def show_details(self):\n",
        "        print(f\"Name: {self.name}, Age: {self.age}\")\n",
        "\n",
        "student1 = Student(\"Shaista\", 20)\n",
        "student2 = Student(\"Diya\", 22)\n",
        "student1.show_details()\n",
        "student2.show_details()\n"
      ],
      "metadata": {
        "colab": {
          "base_uri": "https://localhost:8080/"
        },
        "id": "0B7mKXcxJ8ND",
        "outputId": "cc0cfd92-97eb-4484-bd4d-bf5d2aca822b"
      },
      "execution_count": null,
      "outputs": [
        {
          "output_type": "stream",
          "name": "stdout",
          "text": [
            "Name: Shaista, Age: 20\n",
            "Name: Diya, Age: 22\n"
          ]
        }
      ]
    },
    {
      "cell_type": "code",
      "source": [
        "#Define a class 'Car' with an __init__ method that initializes brand, model, and year.\n",
        "class Car:\n",
        "    def __init__(self, brand, model, year):\n",
        "      self.brand = brand\n",
        "      self.model = model\n",
        "      self.year = year\n",
        "    def show_details(self):\n",
        "        print(f\"Car: {self.brand} {self.model}, Year: {self.year}\")\n",
        "\n",
        "car1 = Car(\"Toyota\", \"Corolla\", 2020)\n",
        "car2 = Car(\"Honda\", \"Civic\", 2022)\n",
        "car1.show_details()\n",
        "car2.show_details()"
      ],
      "metadata": {
        "colab": {
          "base_uri": "https://localhost:8080/"
        },
        "id": "Q4SkWeXPLEsQ",
        "outputId": "750456c5-4808-4e07-8fd3-930b1d25577b"
      },
      "execution_count": null,
      "outputs": [
        {
          "output_type": "stream",
          "name": "stdout",
          "text": [
            "Car: Toyota Corolla, Year: 2020\n",
            "Car: Honda Civic, Year: 2022\n"
          ]
        }
      ]
    },
    {
      "cell_type": "code",
      "source": [
        "#Write a class 'Circle' that takes radius as a parameter and calculates area and circumference.\n",
        "import math\n",
        "class Circle:\n",
        "    def __init__(self, radius):\n",
        "        self.radius = radius\n",
        "    def area(self):\n",
        "        return math.pi * (self.radius ** 2)\n",
        "    def circumference(self):\n",
        "        return 2*math.pi*(self.radius)\n",
        "circle1 = Circle(5)\n",
        "circle2 = Circle(7)\n",
        "\n",
        "print(f\"Circle 1 >> Radius: {circle1.radius}, Area: {circle1.area()}, Circumference: {circle1.circumference()}\")\n",
        "print(f\"Circle 2 >> Radius: {circle2.radius}, Area: {circle2.area()}, Circumference: {circle2.circumference()}\")"
      ],
      "metadata": {
        "colab": {
          "base_uri": "https://localhost:8080/"
        },
        "id": "0WLn-p0LM2XA",
        "outputId": "a1e8aa3d-7047-4c7d-d719-1917df709e07"
      },
      "execution_count": null,
      "outputs": [
        {
          "output_type": "stream",
          "name": "stdout",
          "text": [
            "Circle 1 >> Radius: 5, Area: 78.53981633974483, Circumference: 31.41592653589793\n",
            "Circle 2 >> Radius: 7, Area: 153.93804002589985, Circumference: 43.982297150257104\n"
          ]
        }
      ]
    },
    {
      "cell_type": "code",
      "source": [
        "#Create a class 'Employee' with a method to display employee details.\n",
        "class Employee:\n",
        "    def __init__(self, name, emp_id, salary):\n",
        "        self.name = name\n",
        "        self.emp_id = emp_id\n",
        "        self.salary = salary\n",
        "    def show_details(self):\n",
        "      print(f\"Employee ID: {self.emp_id}, Name: {self.name}, Salary: {self.salary}\")\n",
        "emp1 = Employee(\"Shaista\", 101, 50000)\n",
        "emp2 = Employee(\"Diya\", 102, 60000)\n",
        "\n",
        "emp1.show_details()\n",
        "emp2.show_details()"
      ],
      "metadata": {
        "colab": {
          "base_uri": "https://localhost:8080/"
        },
        "id": "qsAm9Yn6Oh3C",
        "outputId": "9a667383-9556-4325-9029-e57564606818"
      },
      "execution_count": null,
      "outputs": [
        {
          "output_type": "stream",
          "name": "stdout",
          "text": [
            "Employee ID: 101, Name: Shaista, Salary: 50000\n",
            "Employee ID: 102, Name: Diya, Salary: 60000\n"
          ]
        }
      ]
    },
    {
      "cell_type": "code",
      "source": [
        "#Implement a class 'Book' to store book title, author and price. Add a method to show details.\n",
        "class Book:\n",
        "    def __init__(self, title, author, price):\n",
        "       self.title = title\n",
        "       self.author = author\n",
        "       self.price = price\n",
        "    def show_details(self):\n",
        "        print(f\"Title: {self.title}, Author: {self.author}, Price: {self.price}\")\n",
        "\n",
        "book1 = Book(\"Python Basics\", \"John Smith\", 1500)\n",
        "book2 = Book(\"Data Science 101\", \"Shaista Kanwal\", 2200)\n",
        "\n",
        "book1.show_details()\n",
        "book2.show_details()"
      ],
      "metadata": {
        "colab": {
          "base_uri": "https://localhost:8080/"
        },
        "id": "HS-vqCBdSkr1",
        "outputId": "46a712fa-a902-49ad-fd10-8a9988aa0348"
      },
      "execution_count": null,
      "outputs": [
        {
          "output_type": "stream",
          "name": "stdout",
          "text": [
            "Title: Python Basics, Author: John Smith, Price: 1500\n",
            "Title: Data Science 101, Author: Shaista Kanwal, Price: 2200\n"
          ]
        }
      ]
    },
    {
      "cell_type": "code",
      "source": [
        "#Design a class 'Calculator' with methods to add, subtract, multiply and divide two numbers.\n",
        "class Calculator:\n",
        "    def __init__(self, num1, num2):\n",
        "        self.num1 = num1\n",
        "        self.num2 = num2\n",
        "\n",
        "    def add(self):\n",
        "        return self.num1 + self.num2\n",
        "\n",
        "    def subtract(self):\n",
        "        return self.num1 - self.num2\n",
        "\n",
        "    def multiply(self):\n",
        "        return self.num1 * self.num2\n",
        "\n",
        "    def divide(self):\n",
        "        if self.num2 != 0:\n",
        "            return self.num1 / self.num2\n",
        "        else:\n",
        "            return \"Error! Division by zero is not allowed.\"\n",
        "calc1 = Calculator(10, 5)\n",
        "calc2 = Calculator(7, 0)\n",
        "\n",
        "\n",
        "print(\"Addition:\", calc1.add())\n",
        "print(\"Subtraction:\", calc1.subtract())\n",
        "print(\"Multiplication:\", calc1.multiply())\n",
        "print(\"Division:\", calc1.divide())\n",
        "\n",
        "print(\"\\nTesting division by zero:\")\n",
        "print(\"Division:\", calc2.divide())\n"
      ],
      "metadata": {
        "colab": {
          "base_uri": "https://localhost:8080/"
        },
        "id": "47hX0LQWTilO",
        "outputId": "ae706406-8771-486e-a662-297199f9f235"
      },
      "execution_count": null,
      "outputs": [
        {
          "output_type": "stream",
          "name": "stdout",
          "text": [
            "Addition: 15\n",
            "Subtraction: 5\n",
            "Multiplication: 50\n",
            "Division: 2.0\n",
            "\n",
            "Testing division by zero:\n",
            "Division: Error! Division by zero is not allowed.\n"
          ]
        }
      ]
    },
    {
      "cell_type": "code",
      "source": [
        "#Create a class 'BankAccount' with deposit and withdraw methods and display current balance.\n",
        "class BankAccount:\n",
        "    def __init__(self, account_holder, balance=0):\n",
        "        self.account_holder = account_holder\n",
        "        self.balance = balance\n",
        "    def deposit(self, amount):\n",
        "        if amount > 0:\n",
        "            self.balance += amount\n",
        "            print(f\"Deposited: {amount}. New Balance: {self.balance}\")\n",
        "        else:\n",
        "            print(\"Deposit amount must be positive.\")\n",
        "    def withdraw(self, amount):\n",
        "        if 0 < amount <= self.balance:\n",
        "            self.balance -= amount\n",
        "            print(f\"Withdrew: {amount}. Remaining Balance: {self.balance}\")\n",
        "        else:\n",
        "            print(\"Insufficient balance or invalid amount.\")\n",
        "    def show_balance(self):\n",
        "        print(f\"Account Holder: {self.account_holder}, Current Balance: {self.balance}\")\n",
        "account1 = BankAccount(\"Shaista\", 1000)\n",
        "\n",
        "account1.show_balance()\n",
        "account1.deposit(500)\n",
        "account1.withdraw(300)\n",
        "account1.withdraw(1500)\n",
        "account1.show_balance()\n",
        "\n"
      ],
      "metadata": {
        "colab": {
          "base_uri": "https://localhost:8080/"
        },
        "id": "KP08J5HNUYZr",
        "outputId": "df8c86f9-d87f-45cb-fc31-4b4c058d3618"
      },
      "execution_count": null,
      "outputs": [
        {
          "output_type": "stream",
          "name": "stdout",
          "text": [
            "Account Holder: Shaista, Current Balance: 1000\n",
            "Deposited: 500. New Balance: 1500\n",
            "Withdrew: 300. Remaining Balance: 1200\n",
            "Insufficient balance or invalid amount.\n",
            "Account Holder: Shaista, Current Balance: 1200\n"
          ]
        }
      ]
    },
    {
      "cell_type": "code",
      "source": [
        "#Define a class 'Rectangle' with width and height. Add a method to calculate area and perimeter.\n",
        "class Rectangle:\n",
        "    def __init__(self, width, height):\n",
        "        self.width = width\n",
        "        self.height = height\n",
        "    def area(self):\n",
        "        return self.width * self.height\n",
        "    def perimeter(self):\n",
        "        return 2 * (self.width + self.height)\n",
        "rect1 = Rectangle(5, 10)\n",
        "rect2 = Rectangle(7, 3)\n",
        "print(f\"Rectangle 1  Width: {rect1.width}, Height: {rect1.height}, Area: {rect1.area()}, Perimeter: {rect1.perimeter()}\")\n",
        "print(f\"Rectangle 2  Width: {rect2.width}, Height: {rect2.height}, Area: {rect2.area()}, Perimeter: {rect2.perimeter()}\")"
      ],
      "metadata": {
        "colab": {
          "base_uri": "https://localhost:8080/"
        },
        "id": "VE3hN_NA6A3Y",
        "outputId": "ffad7cce-bb47-44f1-8829-6d03d417424b"
      },
      "execution_count": null,
      "outputs": [
        {
          "output_type": "stream",
          "name": "stdout",
          "text": [
            "Rectangle 1  Width: 5, Height: 10, Area: 50, Perimeter: 30\n",
            "Rectangle 2  Width: 7, Height: 3, Area: 21, Perimeter: 20\n"
          ]
        }
      ]
    },
    {
      "cell_type": "code",
      "source": [
        "#Write a class 'Person' with a greeting method and test it with different names.\n",
        "class Person:\n",
        "    def __init__(self, name):\n",
        "        self.name = name\n",
        "    def greet(self):\n",
        "        print(f\"Hello, my name is {self.name}!\")\n",
        "p1 = Person(\"Shaista\")\n",
        "p2 = Person(\"Daniya\")\n",
        "p3 = Person(\"Eman\")\n",
        "\n",
        "p1.greet()\n",
        "p2.greet()\n",
        "p3.greet()"
      ],
      "metadata": {
        "colab": {
          "base_uri": "https://localhost:8080/"
        },
        "id": "fhntloWf8S4p",
        "outputId": "db25492e-fb78-4c67-8344-9ea5ec51357e"
      },
      "execution_count": null,
      "outputs": [
        {
          "output_type": "stream",
          "name": "stdout",
          "text": [
            "Hello, my name is Shaista!\n",
            "Hello, my name is Daniya!\n",
            "Hello, my name is Eman!\n"
          ]
        }
      ]
    },
    {
      "cell_type": "code",
      "source": [
        "#Make a class 'Laptop' with attributes brand, RAM, and processor. Display them using a method.\n",
        "class Laptop:\n",
        "    def __init__(self, brand, ram, processor):\n",
        "        self.brand = brand\n",
        "        self.ram = ram\n",
        "        self.processor = processor\n",
        "    def show_details(self):\n",
        "        print(f\"Laptop Brand: {self.brand}, RAM: {self.ram}, Processor: {self.processor}\")\n",
        "laptop1 = Laptop(\"Dell\", \"8GB\", \"Intel i5\")\n",
        "laptop2 = Laptop(\"Mechrevo\", \"8GB\", \"AMD Ryzen 5\")\n",
        "\n",
        "laptop1.show_details()\n",
        "laptop2.show_details()"
      ],
      "metadata": {
        "colab": {
          "base_uri": "https://localhost:8080/"
        },
        "id": "dWH2N6iK9ZKW",
        "outputId": "877b3b5c-7a0e-41c1-b3cc-fa349dc74f95"
      },
      "execution_count": null,
      "outputs": [
        {
          "output_type": "stream",
          "name": "stdout",
          "text": [
            "Laptop Brand: Dell, RAM: 8GB, Processor: Intel i5\n",
            "Laptop Brand: Mechrevo, RAM: 8GB, Processor: AMD Ryzen 5\n"
          ]
        }
      ]
    },
    {
      "cell_type": "markdown",
      "source": [
        "Day 13 | OOP Advanced  \n",
        "\n",
        "# **Subtopics: Inheritance, Polymorphism, Abstraction, Encapsulation**\n"
      ],
      "metadata": {
        "id": "GZoaQhdo-qwK"
      }
    },
    {
      "cell_type": "code",
      "source": [
        "#Create a base class 'Animal' and derived classes 'Dog' and 'Cat'. Demonstrate inheritance.\n",
        "# Base class\n",
        "class Animal:\n",
        "    def __init__(self, name):\n",
        "        self.name = name\n",
        "    def speak(self):\n",
        "        print(f\"{self.name} makes a sound.\")\n",
        "# Child class Dog\n",
        "class Dog(Animal):\n",
        "    def speak(self):\n",
        "        super().speak()   # call base class method\n",
        "        print(f\"{self.name} barks.\")\n",
        "# Child class Cat\n",
        "class Cat(Animal):\n",
        "    def speak(self):\n",
        "        super().speak()   # call base class method\n",
        "        print(f\"{self.name} meows.\")\n",
        "dog1 = Dog(\"Shipra\")\n",
        "cat1 = Cat(\"Zoyee\")\n",
        "\n",
        "dog1.speak()\n",
        "cat1.speak()"
      ],
      "metadata": {
        "colab": {
          "base_uri": "https://localhost:8080/"
        },
        "id": "9NmP5w7p-xcL",
        "outputId": "6d58f263-780f-4193-9d38-5e3b8154fcb4"
      },
      "execution_count": null,
      "outputs": [
        {
          "output_type": "stream",
          "name": "stdout",
          "text": [
            "Shipra makes a sound.\n",
            "Shipra barks.\n",
            "Zoyee makes a sound.\n",
            "Zoyee meows.\n"
          ]
        }
      ]
    },
    {
      "cell_type": "code",
      "source": [
        "#. Implement method overriding in a class hierarchy involving 'Shape' -> 'Square' and 'Circle'.\n",
        "import math\n",
        "class Shape:\n",
        "    def area(self):\n",
        "        print(\"Area is not defined for generic shape.\")\n",
        "class Square(Shape):\n",
        "    def __init__(self, side):\n",
        "        self.side = side\n",
        "    def area(self):\n",
        "        return self.side * self.side\n",
        "class Circle(Shape):\n",
        "    def __init__(self, radius):\n",
        "        self.radius = radius\n",
        "    def area(self):\n",
        "        return math.pi * (self.radius ** 2)\n",
        "\n",
        "square = Square(3)\n",
        "circle = Circle(9)\n",
        "\n",
        "print(f\"Square area: {square.area()}\")\n",
        "print(f\"Circle area: {circle.area()}\")"
      ],
      "metadata": {
        "colab": {
          "base_uri": "https://localhost:8080/"
        },
        "id": "CVHEi0OjGU-R",
        "outputId": "b15d2079-c068-4b18-c55d-aa45f50d08b0"
      },
      "execution_count": null,
      "outputs": [
        {
          "output_type": "stream",
          "name": "stdout",
          "text": [
            "Square area: 9\n",
            "Circle area: 254.46900494077323\n"
          ]
        }
      ]
    },
    {
      "cell_type": "code",
      "source": [
        "#Write a program to demonstrate polymorphism using a base class 'Vehicle' and derived classes\n",
        "class Vehicle:\n",
        "    def move(self):\n",
        "        print(\"A vehicle can move.\")\n",
        "class Car(Vehicle):\n",
        "    def move(self):   # overriding move()\n",
        "        print(\"A car drives on the road.\")\n",
        "class Bike(Vehicle):\n",
        "    def move(self):   # overriding move()\n",
        "        print(\"A bike speeds on two wheels.\")\n",
        "\n",
        "vehicles = [Vehicle(), Car(), Bike()]\n",
        "\n",
        "for v in vehicles:\n",
        "    v.move()   # same method call, different behavior"
      ],
      "metadata": {
        "colab": {
          "base_uri": "https://localhost:8080/"
        },
        "id": "i-VA1fkHIzqK",
        "outputId": "d996b032-3312-4d2a-a63b-bcd17aa8d0d4"
      },
      "execution_count": null,
      "outputs": [
        {
          "output_type": "stream",
          "name": "stdout",
          "text": [
            "A vehicle can move.\n",
            "A car drives on the road.\n",
            "A bike speeds on two wheels.\n"
          ]
        }
      ]
    },
    {
      "cell_type": "code",
      "source": [
        "#Use abstract base class 'Payment' with abstract method 'pay'. Create subclasses for CardPayment and CashPayment.\n",
        "from abc import ABC, abstractmethod\n",
        "class Payment(ABC):\n",
        "    @abstractmethod\n",
        "    def pay(self, amount):\n",
        "        pass\n",
        "class CardPayment(Payment):\n",
        "    def pay(self, amount):\n",
        "        print(f\"Paid {amount} using Card.\")\n",
        "class CashPayment(Payment):\n",
        "    def pay(self, amount):\n",
        "        print(f\"Paid {amount} in Cash.\")\n",
        "payments = [CardPayment(), CashPayment()]\n",
        "\n"
      ],
      "metadata": {
        "id": "TevsRdAPLogl"
      },
      "execution_count": null,
      "outputs": []
    }
  ]
}