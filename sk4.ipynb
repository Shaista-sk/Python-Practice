{
  "nbformat": 4,
  "nbformat_minor": 0,
  "metadata": {
    "colab": {
      "provenance": [],
      "authorship_tag": "ABX9TyMMgDPlxUBGPdUg30yYiIee",
      "include_colab_link": true
    },
    "kernelspec": {
      "name": "python3",
      "display_name": "Python 3"
    },
    "language_info": {
      "name": "python"
    }
  },
  "cells": [
    {
      "cell_type": "markdown",
      "metadata": {
        "id": "view-in-github",
        "colab_type": "text"
      },
      "source": [
        "<a href=\"https://colab.research.google.com/github/Shaista-sk/Python-Practice/blob/main/sk4.ipynb\" target=\"_parent\"><img src=\"https://colab.research.google.com/assets/colab-badge.svg\" alt=\"Open In Colab\"/></a>"
      ]
    },
    {
      "cell_type": "markdown",
      "source": [
        "# **Q1. Write a Python program that checks if a number is positive, negative, or zero.**"
      ],
      "metadata": {
        "id": "wsqZs0lzkmHD"
      }
    },
    {
      "cell_type": "code",
      "source": [
        "\n",
        "# Taking input from the user\n",
        "num = float(input(\"Enter a number: \"))\n",
        "\n",
        "# Checking the number\n",
        "if num > 0:\n",
        "    print(\"The number is positive.\")\n",
        "elif num < 0:\n",
        "    print(\"The number is negative.\")\n",
        "else:\n",
        "    print(\"The number is zero.\")\n"
      ],
      "metadata": {
        "colab": {
          "base_uri": "https://localhost:8080/"
        },
        "id": "L8uid_gskrYb",
        "outputId": "6d3c6f21-73c2-485c-e0c5-57c562a92a3e"
      },
      "execution_count": null,
      "outputs": [
        {
          "output_type": "stream",
          "name": "stdout",
          "text": [
            "Enter a number: 7\n",
            "The number is positive.\n"
          ]
        }
      ]
    },
    {
      "cell_type": "markdown",
      "source": [
        "# Q2. Ask the user to enter their age.  \n",
        "Print:   \n",
        "\n",
        "•\t“Minor” if age < 18  \n",
        "\n",
        "•\t“Adult” if 18 ≤ age < 60  \n",
        "\n",
        "•\t“Senior” if age ≥ 60\n"
      ],
      "metadata": {
        "id": "N24l9Tytk038"
      }
    },
    {
      "cell_type": "code",
      "source": [
        "\n",
        "# Taking age input from the user\n",
        "age = int(input(\"Enter your age: \"))\n",
        "\n",
        "# Checking the age category\n",
        "if age < 18:\n",
        "    print(\"Minor\")\n",
        "elif age < 60:\n",
        "    print(\"Adult\")\n",
        "else:  # age >= 60\n",
        "    print(\"Senior\")\n"
      ],
      "metadata": {
        "colab": {
          "base_uri": "https://localhost:8080/"
        },
        "id": "oF7sYDgalCpn",
        "outputId": "b3b33200-478e-40cc-bb2a-3e6aeafb0238"
      },
      "execution_count": null,
      "outputs": [
        {
          "output_type": "stream",
          "name": "stdout",
          "text": [
            "Enter your age: 70\n",
            "Senior\n"
          ]
        }
      ]
    },
    {
      "cell_type": "markdown",
      "source": [
        "# **Q3. Write a program to check whether a given number is divisible by 3 and 5 both.**"
      ],
      "metadata": {
        "id": "Uf8TtgN-l31s"
      }
    },
    {
      "cell_type": "code",
      "source": [
        "\n",
        "# Taking input from the user\n",
        "num = int(input(\"Enter a number: \"))\n",
        "\n",
        "# Checking divisibility\n",
        "if num % 3 == 0 and num % 5 == 0:\n",
        "    print(num, \"is divisible by both 3 and 5.\")\n",
        "else:\n",
        "    print(num, \"is not divisible by both 3 and 5.\")\n"
      ],
      "metadata": {
        "colab": {
          "base_uri": "https://localhost:8080/"
        },
        "id": "MsU9SRLEl_EZ",
        "outputId": "121e0d58-6672-4eee-dad7-33586461a1be"
      },
      "execution_count": null,
      "outputs": [
        {
          "output_type": "stream",
          "name": "stdout",
          "text": [
            "Enter a number: 6\n",
            "6 is not divisible by both 3 and 5.\n"
          ]
        }
      ]
    },
    {
      "cell_type": "markdown",
      "source": [
        "# **Q4. Take a user's input for marks (0–100). Print their grade as:**\n",
        "•\tA (≥90), B (80–89), C (70–79), D (60–69), F (<60)\n"
      ],
      "metadata": {
        "id": "iiSuwdKZmP1B"
      }
    },
    {
      "cell_type": "code",
      "source": [
        "\n",
        "# Taking marks input from the user\n",
        "marks = float(input(\"Enter your marks (0-100): \"))\n",
        "\n",
        "# Checking the grade\n",
        "if marks >= 90:\n",
        "    print(\"Grade: A\")\n",
        "elif marks >= 80:  # 80-89\n",
        "    print(\"Grade: B\")\n",
        "elif marks >= 70:  # 70-79\n",
        "    print(\"Grade: C\")\n",
        "elif marks >= 60:  # 60-69\n",
        "    print(\"Grade: D\")\n",
        "else:  # marks < 60\n",
        "    print(\"Grade: F\")\n"
      ],
      "metadata": {
        "colab": {
          "base_uri": "https://localhost:8080/"
        },
        "id": "gPq1IV3WmXxf",
        "outputId": "1927f777-f794-4eb2-8374-7f13d11ba455"
      },
      "execution_count": null,
      "outputs": [
        {
          "output_type": "stream",
          "name": "stdout",
          "text": [
            "Enter your marks (0-100): 95\n",
            "Grade: A\n"
          ]
        }
      ]
    },
    {
      "cell_type": "markdown",
      "source": [
        "# **Q5. Ask the user to enter a year. Print whether it is a leap year or not.**\n",
        "________________________________________\n"
      ],
      "metadata": {
        "id": "bHLyOPywmtdc"
      }
    },
    {
      "cell_type": "code",
      "source": [
        "\n",
        "# Taking input from the user\n",
        "year = int(input(\"Enter a year: \"))\n",
        "\n",
        "# Checking leap year conditions\n",
        "if (year % 4 == 0 and year % 100 != 0) or (year % 400 == 0):\n",
        "    print(year, \"is a leap year.\")\n",
        "else:\n",
        "    print(year, \"is not a leap year.\")\n"
      ],
      "metadata": {
        "colab": {
          "base_uri": "https://localhost:8080/"
        },
        "id": "p5Z8OCKMmyBs",
        "outputId": "6ff25dd4-7ff9-47ca-f13e-632e515881ce"
      },
      "execution_count": null,
      "outputs": [
        {
          "output_type": "stream",
          "name": "stdout",
          "text": [
            "Enter a year: 2024\n",
            "2024 is a leap year.\n"
          ]
        }
      ]
    },
    {
      "cell_type": "markdown",
      "source": [
        "# **Q6. Write a program to check if a number is positive and even.**"
      ],
      "metadata": {
        "id": "dYJymJc2nLeN"
      }
    },
    {
      "cell_type": "code",
      "source": [
        "num = float(input(\"Enter a number: \"))\n",
        "\n",
        "# First check if the number is positive\n",
        "if num > 0:\n",
        "    # Nested if to check if the number is even\n",
        "    if num % 2 == 0:\n",
        "        print(\"The number is positive and even.\")\n",
        "    else:\n",
        "        print(\"The number is positive but not even.\")\n",
        "else:\n",
        "    print(\"The number is not positive.\")\n"
      ],
      "metadata": {
        "colab": {
          "base_uri": "https://localhost:8080/"
        },
        "id": "5kITC6s9nZUj",
        "outputId": "c4a24807-ee48-49d1-ff6b-7c550f40c330"
      },
      "execution_count": null,
      "outputs": [
        {
          "output_type": "stream",
          "name": "stdout",
          "text": [
            "Enter a number: 9\n",
            "The number is positive but not even.\n"
          ]
        }
      ]
    },
    {
      "cell_type": "markdown",
      "source": [
        "# **Q7. Take three numbers as input and print the largest using nested if.**"
      ],
      "metadata": {
        "id": "-NOFuM7XnpGU"
      }
    },
    {
      "cell_type": "code",
      "source": [
        "# Taking input from the user\n",
        "num1 = int(input(\"Enter the first number: \"))\n",
        "num2 = int(input(\"Enter the second number: \"))\n",
        "num3 = int(input(\"Enter the third number: \"))\n",
        "\n",
        "# Nested if to find the largest\n",
        "if num1 >= num2:\n",
        "    if num1 >= num3:\n",
        "        largest = num1\n",
        "    else:\n",
        "        largest = num3\n",
        "else:  # num2 > num1\n",
        "    if num2 >= num3:\n",
        "        largest = num2\n",
        "    else:\n",
        "        largest = num3\n",
        "\n",
        "print(\"The largest number is:\", largest)\n"
      ],
      "metadata": {
        "colab": {
          "base_uri": "https://localhost:8080/"
        },
        "id": "wKDM5Y74ntLI",
        "outputId": "c9c0eea2-e297-4863-ecc9-00035987a690"
      },
      "execution_count": null,
      "outputs": [
        {
          "output_type": "stream",
          "name": "stdout",
          "text": [
            "Enter the first number: 1\n",
            "Enter the second number: 2\n",
            "Enter the third number: 3\n",
            "The largest number is: 3\n"
          ]
        }
      ]
    },
    {
      "cell_type": "markdown",
      "source": [
        "# **Q8. Ask the user to enter a password. If the password is correct, ask for a security code. If both are correct, print “Access Granted”; else, print appropriate error messages.**\n",
        "\n"
      ],
      "metadata": {
        "id": "DeJuQvzUoXEg"
      }
    },
    {
      "cell_type": "code",
      "source": [
        "\n",
        "# Predefined correct credentials\n",
        "correct_password = \"sklock\"\n",
        "correct_code = \"1234\"\n",
        "\n",
        "# Taking password input from the user\n",
        "password = input(\"Enter your password: \")\n",
        "\n",
        "# First check the password\n",
        "if password == correct_password:\n",
        "    # Nested if to check the security code\n",
        "    code = input(\"Enter your security code: \")\n",
        "    if code == correct_code:\n",
        "        print(\"Access Granted\")\n",
        "    else:\n",
        "        print(\"Incorrect security code\")\n",
        "else:\n",
        "    print(\"Incorrect password\")\n",
        "\n"
      ],
      "metadata": {
        "colab": {
          "base_uri": "https://localhost:8080/"
        },
        "id": "2xcjdZtEofVp",
        "outputId": "0677214a-efd0-4a50-f777-3587177cb972"
      },
      "execution_count": null,
      "outputs": [
        {
          "output_type": "stream",
          "name": "stdout",
          "text": [
            "Enter your password: sklock\n",
            "Enter your security code: 1234\n",
            "Access Granted\n"
          ]
        }
      ]
    },
    {
      "cell_type": "markdown",
      "source": [
        "**Q9. Write a loop that prints numbers from 1 to 10, but stops if it reaches 6.**"
      ],
      "metadata": {
        "id": "HgTdSD6mpPvt"
      }
    },
    {
      "cell_type": "code",
      "source": [
        "\n",
        "for i in range(1, 11):  # 1 to 10\n",
        "    if i == 6:\n",
        "        break  # stop the loop when i is 6\n",
        "    print(i)\n"
      ],
      "metadata": {
        "colab": {
          "base_uri": "https://localhost:8080/"
        },
        "id": "Rt75bLL7pYWh",
        "outputId": "53f7c19f-0f7a-4115-c785-2a73473997cf"
      },
      "execution_count": null,
      "outputs": [
        {
          "output_type": "stream",
          "name": "stdout",
          "text": [
            "1\n",
            "2\n",
            "3\n",
            "4\n",
            "5\n"
          ]
        }
      ]
    },
    {
      "cell_type": "markdown",
      "source": [
        "# **Q10. Write a loop that prints all numbers from 1 to 10, but skips printing 5.**"
      ],
      "metadata": {
        "id": "rwbY5zO7p6ce"
      }
    },
    {
      "cell_type": "code",
      "source": [
        "\n",
        "for i in range(1, 11):  # 1 to 10\n",
        "    if i == 5:\n",
        "        continue  # skip the rest of the loop for i = 5\n",
        "    print(i)\n"
      ],
      "metadata": {
        "colab": {
          "base_uri": "https://localhost:8080/"
        },
        "id": "FBLFZzu4p-yA",
        "outputId": "f814ea90-30f3-4581-826a-398e570f3fbb"
      },
      "execution_count": null,
      "outputs": [
        {
          "output_type": "stream",
          "name": "stdout",
          "text": [
            "1\n",
            "2\n",
            "3\n",
            "4\n",
            "6\n",
            "7\n",
            "8\n",
            "9\n",
            "10\n"
          ]
        }
      ]
    },
    {
      "cell_type": "markdown",
      "source": [
        "# **Q11. Use pass inside a loop that runs from 1 to 5. Explain its effect.**"
      ],
      "metadata": {
        "id": "VL5ldlRuqJWL"
      }
    },
    {
      "cell_type": "markdown",
      "source": [
        "pass is a null statement in Python.\n",
        "\n",
        "It does nothing when executed.\n",
        "\n",
        "It’s often used as a placeholder for future code."
      ],
      "metadata": {
        "id": "ARXigBdMrTKH"
      }
    },
    {
      "cell_type": "code",
      "source": [
        "\n",
        "for i in range(1, 6):  # 1 to 5\n",
        "    pass  # does nothing, just a placeholder\n",
        "    print(i)\n"
      ],
      "metadata": {
        "colab": {
          "base_uri": "https://localhost:8080/"
        },
        "id": "yZNS5XQ7rW8e",
        "outputId": "b18b3a43-b79e-4e1d-e697-abaf0ef88380"
      },
      "execution_count": null,
      "outputs": [
        {
          "output_type": "stream",
          "name": "stdout",
          "text": [
            "1\n",
            "2\n",
            "3\n",
            "4\n",
            "5\n"
          ]
        }
      ]
    },
    {
      "cell_type": "markdown",
      "source": [
        "Use pass when we need syntactically a statement, but we don’t want the program to do anything yet."
      ],
      "metadata": {
        "id": "ortBnq5orkI5"
      }
    },
    {
      "cell_type": "code",
      "source": [
        "for i in range(5):\n",
        "    pass\n"
      ],
      "metadata": {
        "id": "Y9rqfHgWrsHY"
      },
      "execution_count": null,
      "outputs": []
    },
    {
      "cell_type": "markdown",
      "source": [
        "# **Q12. Use a while loop that keeps asking the user to enter a number. If the user enters 0, break the loop.**"
      ],
      "metadata": {
        "id": "dPCfMTVYryqZ"
      }
    },
    {
      "cell_type": "code",
      "source": [
        "\n",
        "while True:  # infinite loop\n",
        "    num = float(input(\"Enter a number (0 to stop): \"))\n",
        "    if num == 0:\n",
        "        print(\"Loop stopped.\")\n",
        "        break  # exit the loop\n",
        "    else:\n",
        "        print(\"You entered:\", num)\n"
      ],
      "metadata": {
        "colab": {
          "base_uri": "https://localhost:8080/"
        },
        "id": "m6q9XtAYsMZX",
        "outputId": "da5965eb-3d86-4ecf-df35-6e3d39b77a36"
      },
      "execution_count": null,
      "outputs": [
        {
          "output_type": "stream",
          "name": "stdout",
          "text": [
            "Enter a number (0 to stop): 4\n",
            "You entered: 4.0\n",
            "Enter a number (0 to stop): 8\n",
            "You entered: 8.0\n",
            "Enter a number (0 to stop): 0\n",
            "Loop stopped.\n"
          ]
        }
      ]
    },
    {
      "cell_type": "markdown",
      "source": [
        "# **Q13. Iterate over a list of numbers. Print only the even numbers using continue.**"
      ],
      "metadata": {
        "id": "Hr3P_LKEsVVo"
      }
    },
    {
      "cell_type": "code",
      "source": [
        "\n",
        "numbers = [1, 2, 3, 4, 5, 6, 7, 8, 9, 10]\n",
        "\n",
        "# Iterate over the list\n",
        "for num in numbers:\n",
        "    if num % 2 != 0:\n",
        "        continue       # skip to the next iteration\n",
        "    print(num)         # only even numbers are printed\n"
      ],
      "metadata": {
        "colab": {
          "base_uri": "https://localhost:8080/"
        },
        "id": "iikDNMKXsgwG",
        "outputId": "16c311d3-77e5-41aa-ae5a-0e95bbb42a1c"
      },
      "execution_count": null,
      "outputs": [
        {
          "output_type": "stream",
          "name": "stdout",
          "text": [
            "2\n",
            "4\n",
            "6\n",
            "8\n",
            "10\n"
          ]
        }
      ]
    },
    {
      "cell_type": "markdown",
      "source": [
        "# **Q14. Create a loop that prints numbers from 1 to 10. If the number is a multiple of 4, skip it using continue.**"
      ],
      "metadata": {
        "id": "Vf8uUpfOs-MG"
      }
    },
    {
      "cell_type": "code",
      "source": [
        "\n",
        "for i in range(1, 11):\n",
        "    if i % 4 == 0:  # check if the number is a multiple of 4\n",
        "        continue     # skip this iteration\n",
        "    print(i)\n"
      ],
      "metadata": {
        "colab": {
          "base_uri": "https://localhost:8080/"
        },
        "id": "GqFZ781btD4F",
        "outputId": "b365c31e-b009-4ab8-b43e-7fab2e56bc6f"
      },
      "execution_count": null,
      "outputs": [
        {
          "output_type": "stream",
          "name": "stdout",
          "text": [
            "1\n",
            "2\n",
            "3\n",
            "5\n",
            "6\n",
            "7\n",
            "9\n",
            "10\n"
          ]
        }
      ]
    },
    {
      "cell_type": "markdown",
      "source": [
        "# **Q15. Write a program using a loop that prints numbers from 1 to 20. When it reaches a number divisible by both 3 and 5, break the loop and print \"Found it!\"**"
      ],
      "metadata": {
        "id": "ejUdYy8htNgn"
      }
    },
    {
      "cell_type": "code",
      "source": [
        "for i in range(1, 21):\n",
        "    if i % 3 == 0 and i % 5 == 0:  # check divisibility by both 3 and 5\n",
        "        print(\"Found it!\")\n",
        "        break  # stop the loop\n",
        "    print(i)\n"
      ],
      "metadata": {
        "colab": {
          "base_uri": "https://localhost:8080/"
        },
        "id": "nC8vo_v_tTtO",
        "outputId": "8a0be945-aaa1-4818-87b8-4768dfca0253"
      },
      "execution_count": null,
      "outputs": [
        {
          "output_type": "stream",
          "name": "stdout",
          "text": [
            "1\n",
            "2\n",
            "3\n",
            "4\n",
            "5\n",
            "6\n",
            "7\n",
            "8\n",
            "9\n",
            "10\n",
            "11\n",
            "12\n",
            "13\n",
            "14\n",
            "Found it!\n"
          ]
        }
      ]
    },
    {
      "cell_type": "markdown",
      "source": [
        "here the loop stop at 15 which is divisible by 3 and 5 both"
      ],
      "metadata": {
        "id": "FBTCpozKtuV8"
      }
    }
  ]
}