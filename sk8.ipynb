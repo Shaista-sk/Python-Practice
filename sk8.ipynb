{
  "nbformat": 4,
  "nbformat_minor": 0,
  "metadata": {
    "colab": {
      "provenance": [],
      "authorship_tag": "ABX9TyMvEt/oUWzbmwcJRzqaVsxl",
      "include_colab_link": true
    },
    "kernelspec": {
      "name": "python3",
      "display_name": "Python 3"
    },
    "language_info": {
      "name": "python"
    }
  },
  "cells": [
    {
      "cell_type": "markdown",
      "metadata": {
        "id": "view-in-github",
        "colab_type": "text"
      },
      "source": [
        "<a href=\"https://colab.research.google.com/github/Shaista-sk/Python-Practice/blob/main/sk8.ipynb\" target=\"_parent\"><img src=\"https://colab.research.google.com/assets/colab-badge.svg\" alt=\"Open In Colab\"/></a>"
      ]
    },
    {
      "cell_type": "markdown",
      "source": [
        "# Topic: Dictionary Methods + Lists, Sets, Strings, Tuples"
      ],
      "metadata": {
        "id": "0tVsAFChfKQc"
      }
    },
    {
      "cell_type": "code",
      "source": [
        "#1.\tWrite a Python program to merge two dictionaries into one.\n",
        "dict1 = {'first_name': 'Shaista', 'last_name': 'Kanwal'}\n",
        "dict2 = {'friend1': 'Daniya', 'friend2': 'Eman'}\n",
        "merged_dict = {**dict1, **dict2}\n",
        "print(\"Merged Dictionary:\", merged_dict)"
      ],
      "metadata": {
        "colab": {
          "base_uri": "https://localhost:8080/"
        },
        "id": "6-pWllxcfmds",
        "outputId": "f7c25fc1-5c76-46b8-f025-0922b379143c"
      },
      "execution_count": null,
      "outputs": [
        {
          "output_type": "stream",
          "name": "stdout",
          "text": [
            "Merged Dictionary: {'first_name': 'Shaista', 'last_name': 'Kanwal', 'friend1': 'Daniya', 'friend2': 'Eman'}\n"
          ]
        }
      ]
    },
    {
      "cell_type": "markdown",
      "source": [
        "2.\tHow can you check if a key exists in a dictionary?  \n",
        "\n",
        "Ans: we can check by using \"in\" keyword"
      ],
      "metadata": {
        "id": "5IX81DwIgppx"
      }
    },
    {
      "cell_type": "code",
      "source": [
        "#3.\tRemove a key-value pair from a dictionary using a method.\n",
        "person = {'name': 'shaista', 'age': 20, 'city': 'Karachi'}\n",
        "removed_key = person.pop('age')\n",
        "print(\"Removed key: \",removed_key)\n",
        "print(\"updated Dictionary \",person)\n"
      ],
      "metadata": {
        "colab": {
          "base_uri": "https://localhost:8080/"
        },
        "id": "2L66KK_qgx6-",
        "outputId": "27d0f826-e9f3-42e9-bf25-e5237cc1bcb3"
      },
      "execution_count": null,
      "outputs": [
        {
          "output_type": "stream",
          "name": "stdout",
          "text": [
            "Removed key:  20\n",
            "updated Dictionary  {'name': 'shaista', 'city': 'Karachi'}\n"
          ]
        }
      ]
    },
    {
      "cell_type": "code",
      "source": [
        "#4.\tUse a dictionary method to return the value for a given key, or a default value if the key is not present.\n",
        "person = {'name': 'Shaista', 'age': 20, 'city': 'Taxila'}\n",
        "age = person.get('age', 'Not Found')\n",
        "print(\"Age:\", age)\n",
        "gender= person.get('gender', 'Not Found')\n",
        "print(\"gender:\" , gender)"
      ],
      "metadata": {
        "colab": {
          "base_uri": "https://localhost:8080/"
        },
        "id": "BEDAEuDEi8Ua",
        "outputId": "acd85eff-92b0-4b78-9609-eda7baf9bfdb"
      },
      "execution_count": null,
      "outputs": [
        {
          "output_type": "stream",
          "name": "stdout",
          "text": [
            "Age: 20\n",
            "gender: Not Found\n"
          ]
        }
      ]
    },
    {
      "cell_type": "code",
      "source": [
        "#5.\tConvert two lists into a dictionary using zip().\n",
        "keys = ['name', 'age', 'city']\n",
        "values = ['Shaista', 20, 'Taxila']\n",
        "person = dict(zip(keys, values))\n",
        "print(person)"
      ],
      "metadata": {
        "colab": {
          "base_uri": "https://localhost:8080/"
        },
        "id": "-R73FCvgkgW-",
        "outputId": "36644939-5787-422d-f8b0-7bf9826eecaa"
      },
      "execution_count": null,
      "outputs": [
        {
          "output_type": "stream",
          "name": "stdout",
          "text": [
            "{'name': 'Shaista', 'age': 20, 'city': 'Taxila'}\n"
          ]
        }
      ]
    },
    {
      "cell_type": "code",
      "source": [
        "#6.\tCreate a dictionary from user input of 3 key-value pairs.\n",
        "my_dict = {}\n",
        "for i in range(3):\n",
        "    key = input(f\"Enter key {i+1}: \")\n",
        "    value = input(f\"Enter value for '{key}': \")\n",
        "    my_dict[key] = value\n",
        "print(\"Your dictionary is:\", my_dict)"
      ],
      "metadata": {
        "colab": {
          "base_uri": "https://localhost:8080/"
        },
        "id": "5ot32Yi3lBTz",
        "outputId": "5700ceab-4fc6-487f-ec48-13d78bfb2158"
      },
      "execution_count": null,
      "outputs": [
        {
          "output_type": "stream",
          "name": "stdout",
          "text": [
            "Enter key 1: name\n",
            "Enter value for 'name': Shaista\n",
            "Enter key 2: age\n",
            "Enter value for 'age': 20\n",
            "Enter key 3: university\n",
            "Enter value for 'university': VU\n",
            "Your dictionary is: {'name': 'Shaista', 'age': '20', 'university': 'VU'}\n"
          ]
        }
      ]
    },
    {
      "cell_type": "code",
      "source": [
        "#7.\tWrite a program to count the frequency of each character in a string using a dictionary.\n",
        "text = input(\"Enter a string: \")\n",
        "freq = {}\n",
        "for char in text:\n",
        "    if char in freq:\n",
        "        freq[char] += 1\n",
        "    else:\n",
        "        freq[char] = 1\n",
        "print(\"Character frequencies:\", freq)"
      ],
      "metadata": {
        "colab": {
          "base_uri": "https://localhost:8080/"
        },
        "id": "AHm9XkmkmAut",
        "outputId": "cdd0947a-f3e2-4f92-c472-3e6f0c96aa5d"
      },
      "execution_count": null,
      "outputs": [
        {
          "output_type": "stream",
          "name": "stdout",
          "text": [
            "Enter a string: baseball\n",
            "Character frequencies: {'b': 2, 'a': 2, 's': 1, 'e': 1, 'l': 2}\n"
          ]
        }
      ]
    },
    {
      "cell_type": "code",
      "source": [
        "#8.\tGiven a dictionary of students and scores, find the student with the highest score.\n",
        "scores = {\n",
        "    \"Zhra\": 85,\n",
        "    \"Manahil\": 92,\n",
        "    \"Diya\": 78,\n",
        "    \"Urooj\": 95\n",
        "}\n",
        "highest_student = max(scores, key=scores.get)\n",
        "highest_score = scores[highest_student]\n",
        "print(f\"The student with the highest score is {highest_student} with a score of {highest_score}.\")"
      ],
      "metadata": {
        "colab": {
          "base_uri": "https://localhost:8080/"
        },
        "id": "ZpjODOxZnVUc",
        "outputId": "ded57125-d9ea-4f54-9548-920b6b5ac1cb"
      },
      "execution_count": null,
      "outputs": [
        {
          "output_type": "stream",
          "name": "stdout",
          "text": [
            "The student with the highest score is Urooj with a score of 95.\n"
          ]
        }
      ]
    },
    {
      "cell_type": "code",
      "source": [
        "#9.\tUse the set() method to remove duplicates from a list.\n",
        "my_list = [1, 2, 2, 3, 4, 4, 5]\n",
        "unique_set = set(my_list)\n",
        "unique_list = list(unique_set)\n",
        "print(\"Original list:\", my_list)\n",
        "print(\"List after removing duplicates:\", unique_list)"
      ],
      "metadata": {
        "colab": {
          "base_uri": "https://localhost:8080/"
        },
        "id": "moeaKobZojHZ",
        "outputId": "9307be8a-f939-45e9-e935-323cb8ea2481"
      },
      "execution_count": null,
      "outputs": [
        {
          "output_type": "stream",
          "name": "stdout",
          "text": [
            "Original list: [1, 2, 2, 3, 4, 4, 5]\n",
            "List after removing duplicates: [1, 2, 3, 4, 5]\n"
          ]
        }
      ]
    },
    {
      "cell_type": "code",
      "source": [
        "#10.\tFind the intersection of two sets in Python\n",
        "set1 = {1, 2, 3, 4, 5}\n",
        "set2 = {4, 5, 6, 7, 8}\n",
        "intersection = set1 & set2\n",
        "print(\"Intersection: \", intersection)"
      ],
      "metadata": {
        "colab": {
          "base_uri": "https://localhost:8080/"
        },
        "id": "mEesazj5po_g",
        "outputId": "783eb155-4246-4ca3-9e49-b7d5e88bbce0"
      },
      "execution_count": null,
      "outputs": [
        {
          "output_type": "stream",
          "name": "stdout",
          "text": [
            "Intersection:  {4, 5}\n"
          ]
        }
      ]
    },
    {
      "cell_type": "code",
      "source": [
        "#11.\tWrite a program that takes a string and returns the number of vowels in it.\n",
        "text = input(\"Enter a string: \")\n",
        "vowels = \"aeiouAEIOU\"\n",
        "count = 0\n",
        "for char in text:\n",
        "    if char in vowels:\n",
        "        count += 1\n",
        "print(f\"The number of vowels in the string is: {count}\")"
      ],
      "metadata": {
        "colab": {
          "base_uri": "https://localhost:8080/"
        },
        "id": "2Wr80qIGpsf_",
        "outputId": "9d8c6cdb-babe-4fac-800c-88c8e8445c86"
      },
      "execution_count": null,
      "outputs": [
        {
          "output_type": "stream",
          "name": "stdout",
          "text": [
            "Enter a string: pineapple\n",
            "The number of vowels in the string is: 4\n"
          ]
        }
      ]
    },
    {
      "cell_type": "code",
      "source": [
        "#12.\tReverse a list without using the reverse() method.\n",
        "my_list = [1, 2, 3, 4, 5]\n",
        "reversed_list = []\n",
        "reversed_list = my_list[::-1]  #using slicing\n",
        "print(\"Original list:\", my_list)\n",
        "print(\"Reversed list:\", reversed_list)"
      ],
      "metadata": {
        "colab": {
          "base_uri": "https://localhost:8080/"
        },
        "id": "VMyJx4LmqpOn",
        "outputId": "21e96433-56b2-4438-daa9-e4f58ad2c519"
      },
      "execution_count": null,
      "outputs": [
        {
          "output_type": "stream",
          "name": "stdout",
          "text": [
            "Original list: [1, 2, 3, 4, 5]\n",
            "Reversed list: [5, 4, 3, 2, 1]\n"
          ]
        }
      ]
    },
    {
      "cell_type": "code",
      "source": [
        "#13.\tWrite a Python program to check if a tuple contains a specific value.\n",
        "coding_languages = (\"Python\", \"Java\", \"C++\", \"JavaScript\", \"Ruby\")\n",
        "value = input(\"Enter a programming language to check: \")\n",
        "if value in coding_languages:\n",
        "    print(f\"{value} is present in the tuple.\")\n",
        "else:\n",
        "    print(f\"{value} is not present in the tuple.\")"
      ],
      "metadata": {
        "colab": {
          "base_uri": "https://localhost:8080/"
        },
        "id": "o-qHqf8WrMEw",
        "outputId": "5ccee10a-1080-4464-c110-2d4e1edb7398"
      },
      "execution_count": null,
      "outputs": [
        {
          "output_type": "stream",
          "name": "stdout",
          "text": [
            "Enter a programming language to check: Python\n",
            "Python is present in the tuple.\n"
          ]
        }
      ]
    },
    {
      "cell_type": "code",
      "source": [
        "#14.\tConvert a list of tuples into a dictionary.\n",
        "subjects = [(\"Math\", 95), (\"Physics\", 90), (\"Chemistry\", 85), (\"English\", 88)]\n",
        "subject_dict = dict(subjects)\n",
        "print(\"Dictionary:\", subject_dict)"
      ],
      "metadata": {
        "colab": {
          "base_uri": "https://localhost:8080/"
        },
        "id": "AAP4JwIjroex",
        "outputId": "b9b97d17-47e5-4353-abc8-21e2a5e753aa"
      },
      "execution_count": null,
      "outputs": [
        {
          "output_type": "stream",
          "name": "stdout",
          "text": [
            "Dictionary: {'Math': 95, 'Physics': 90, 'Chemistry': 85, 'English': 88}\n"
          ]
        }
      ]
    },
    {
      "cell_type": "code",
      "source": [
        "#15.\tCreate a set from a string and display the unique characters.\n",
        "text = input(\"Enter a string: \")\n",
        "unique_chars = set(text)\n",
        "print(\"Unique characters in the string:\", unique_chars)"
      ],
      "metadata": {
        "colab": {
          "base_uri": "https://localhost:8080/"
        },
        "id": "iMc6SqGgsBku",
        "outputId": "fdbb1b77-5fd7-45f2-9add-e5392dc973f1"
      },
      "execution_count": null,
      "outputs": [
        {
          "output_type": "stream",
          "name": "stdout",
          "text": [
            "Enter a string: baseball\n",
            "Unique characters in the string: {'s', 'e', 'b', 'l', 'a'}\n"
          ]
        }
      ]
    }
  ]
}